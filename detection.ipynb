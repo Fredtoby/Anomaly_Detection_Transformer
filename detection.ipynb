{
 "cells": [
  {
   "cell_type": "code",
   "execution_count": 2,
   "metadata": {},
   "outputs": [
    {
     "name": "stdout",
     "output_type": "stream",
     "text": [
      "cpu\n"
     ]
    }
   ],
   "source": [
    "import torch\n",
    "import torch.nn as nn\n",
    "import torch.nn.functional as F\n",
    "from torch.autograd import Variable\n",
    "import numpy as np\n",
    "import importlib\n",
    "import pandas as pd\n",
    "import seaborn\n",
    "from IPython.display import Image\n",
    "import matplotlib.pyplot as plt\n",
    "\n",
    "import Transformer as tnsf\n",
    "import detection_model as ad\n",
    "\n",
    "importlib.reload(ad)\n",
    "importlib.reload(tnsf)\n",
    "\n",
    "device = torch.device(\"cuda\" if torch.cuda.is_available() else \"cpu\")\n",
    "print(device)"
   ]
  },
  {
   "cell_type": "code",
   "execution_count": 3,
   "metadata": {},
   "outputs": [],
   "source": [
    "pd.options.display.width = 400\n",
    "pd.options.display.max_colwidth = 400"
   ]
  },
  {
   "cell_type": "markdown",
   "metadata": {},
   "source": [
    "## Data Preproccesing"
   ]
  },
  {
   "cell_type": "code",
   "execution_count": 46,
   "metadata": {},
   "outputs": [
    {
     "name": "stdout",
     "output_type": "stream",
     "text": [
      "Processed 100.0% of log lines.\n",
      "Parsing done. [Time taken: 0:00:00.438758]\n"
     ]
    }
   ],
   "source": [
    "# Parse from file\n",
    "# Input log file name\n",
    "log_file  = 'HDFS.log'\n",
    "log_source  = 'HDFS'\n",
    "algorithm = 'Spell'\n",
    "ad.parse(log_source, log_file, algorithm)"
   ]
  },
  {
   "cell_type": "code",
   "execution_count": 26,
   "metadata": {},
   "outputs": [
    {
     "name": "stdout",
     "output_type": "stream",
     "text": [
      "081109 203518 143 INFO dfs.DataNode$DataXceiver: Receiving block blk_-1608999687919862906 src: /10.250.19.102:54106 dest: /10.250.19.102:50010\n",
      "081109 203518 35 INFO dfs.FSNamesystem: BLOCK* NameSystem.allocateBlock: /mnt/hadoop/mapred/system/job_200811092030_0001/job.jar. blk_-1608999687919862906\n",
      "081109 203519 143 INFO dfs.DataNode$DataXceiver: Receiving block blk_-1608999687919862906 src: /10.250.10.6:40524 dest: /10.250.10.6:50010\n",
      "081109 203519 145 INFO dfs.DataNode$DataXceiver: Receiving block blk_-1608999687919862906 src: /10.250.14.224:42420 dest: /10.250.14.224:50010\n",
      "081109 203519 145 INFO dfs.DataNode$PacketResponder: PacketResponder 1 for block blk_-1608999687919862906 terminating\n",
      "081109 203519 145 INFO dfs.DataNode$PacketResponder: PacketResponder 2 for block blk_-1608999687919862906 terminating\n",
      "081109 203519 145 INFO dfs.DataNode$PacketResponder: Received block blk_-1608999687919862906 of size 91178 from /10.250.10.6\n",
      "081109 203519 145 INFO dfs.DataNode$PacketResponder: Received block blk_-1608999687919862906 of size 91178 from /10.250.19.102\n",
      "081109 203519 147 INFO dfs.DataNode$PacketResponder: PacketResponder 0 for block blk_-1608999687919862906 terminating\n",
      "081109 203519 147 INFO dfs.DataNode$PacketResponder: Received block blk_-1608999687919862906 of size 91178 from /10.250.14.224\n"
     ]
    }
   ],
   "source": [
    "# Original raw logs\n",
    "N = 10\n",
    "with open(\"Dataset/HDFS/HDFS.log\") as file:\n",
    "    for i in range(N): print(next(file).strip())"
   ]
  },
  {
   "cell_type": "code",
   "execution_count": 4,
   "metadata": {},
   "outputs": [
    {
     "data": {
      "text/html": [
       "<div>\n",
       "<style scoped>\n",
       "    .dataframe tbody tr th:only-of-type {\n",
       "        vertical-align: middle;\n",
       "    }\n",
       "\n",
       "    .dataframe tbody tr th {\n",
       "        vertical-align: top;\n",
       "    }\n",
       "\n",
       "    .dataframe thead th {\n",
       "        text-align: right;\n",
       "    }\n",
       "</style>\n",
       "<table border=\"1\" class=\"dataframe\">\n",
       "  <thead>\n",
       "    <tr style=\"text-align: right;\">\n",
       "      <th></th>\n",
       "      <th>EventId</th>\n",
       "      <th>EventTemplate</th>\n",
       "    </tr>\n",
       "  </thead>\n",
       "  <tbody>\n",
       "    <tr>\n",
       "      <th>0</th>\n",
       "      <td>E1</td>\n",
       "      <td>&lt;*&gt;Adding an already existing block&lt;*&gt;</td>\n",
       "    </tr>\n",
       "    <tr>\n",
       "      <th>1</th>\n",
       "      <td>E2</td>\n",
       "      <td>&lt;*&gt;Verification succeeded for&lt;*&gt;</td>\n",
       "    </tr>\n",
       "    <tr>\n",
       "      <th>2</th>\n",
       "      <td>E3</td>\n",
       "      <td>&lt;*&gt;Served block&lt;*&gt;to&lt;*&gt;</td>\n",
       "    </tr>\n",
       "    <tr>\n",
       "      <th>3</th>\n",
       "      <td>E4</td>\n",
       "      <td>&lt;*&gt;Got exception while serving&lt;*&gt;to&lt;*&gt;</td>\n",
       "    </tr>\n",
       "    <tr>\n",
       "      <th>4</th>\n",
       "      <td>E5</td>\n",
       "      <td>&lt;*&gt;Receiving block&lt;*&gt;src:&lt;*&gt;dest:&lt;*&gt;</td>\n",
       "    </tr>\n",
       "    <tr>\n",
       "      <th>5</th>\n",
       "      <td>E6</td>\n",
       "      <td>&lt;*&gt;Received block&lt;*&gt;src:&lt;*&gt;dest:&lt;*&gt;of size&lt;*&gt;</td>\n",
       "    </tr>\n",
       "    <tr>\n",
       "      <th>6</th>\n",
       "      <td>E7</td>\n",
       "      <td>&lt;*&gt;writeBlock&lt;*&gt;received exception&lt;*&gt;</td>\n",
       "    </tr>\n",
       "    <tr>\n",
       "      <th>7</th>\n",
       "      <td>E8</td>\n",
       "      <td>&lt;*&gt;PacketResponder&lt;*&gt;for block&lt;*&gt;Interrupted&lt;*&gt;</td>\n",
       "    </tr>\n",
       "    <tr>\n",
       "      <th>8</th>\n",
       "      <td>E9</td>\n",
       "      <td>&lt;*&gt;Received block&lt;*&gt;of size&lt;*&gt;from&lt;*&gt;</td>\n",
       "    </tr>\n",
       "    <tr>\n",
       "      <th>9</th>\n",
       "      <td>E10</td>\n",
       "      <td>&lt;*&gt;PacketResponder&lt;*&gt;Exception&lt;*&gt;</td>\n",
       "    </tr>\n",
       "    <tr>\n",
       "      <th>10</th>\n",
       "      <td>E11</td>\n",
       "      <td>&lt;*&gt;PacketResponder &lt;*&gt; for block &lt;*&gt; terminating&lt;*&gt;</td>\n",
       "    </tr>\n",
       "    <tr>\n",
       "      <th>11</th>\n",
       "      <td>E12</td>\n",
       "      <td>&lt;*&gt;:Exception writing block&lt;*&gt;to mirror&lt;*&gt;</td>\n",
       "    </tr>\n",
       "    <tr>\n",
       "      <th>12</th>\n",
       "      <td>E13</td>\n",
       "      <td>&lt;*&gt;Receiving empty packet for block&lt;*&gt;</td>\n",
       "    </tr>\n",
       "    <tr>\n",
       "      <th>13</th>\n",
       "      <td>E14</td>\n",
       "      <td>&lt;*&gt;Exception in receiveBlock for block&lt;*&gt;</td>\n",
       "    </tr>\n",
       "    <tr>\n",
       "      <th>14</th>\n",
       "      <td>E15</td>\n",
       "      <td>&lt;*&gt;Changing block file offset of block&lt;*&gt;from&lt;*&gt;to&lt;*&gt;meta file offset to&lt;*&gt;</td>\n",
       "    </tr>\n",
       "    <tr>\n",
       "      <th>15</th>\n",
       "      <td>E16</td>\n",
       "      <td>&lt;*&gt;:Transmitted block&lt;*&gt;to&lt;*&gt;</td>\n",
       "    </tr>\n",
       "    <tr>\n",
       "      <th>16</th>\n",
       "      <td>E17</td>\n",
       "      <td>&lt;*&gt;:Failed to transfer&lt;*&gt;to&lt;*&gt;got&lt;*&gt;</td>\n",
       "    </tr>\n",
       "    <tr>\n",
       "      <th>17</th>\n",
       "      <td>E18</td>\n",
       "      <td>&lt;*&gt;Starting thread to transfer block&lt;*&gt;to&lt;*&gt;</td>\n",
       "    </tr>\n",
       "    <tr>\n",
       "      <th>18</th>\n",
       "      <td>E19</td>\n",
       "      <td>&lt;*&gt;Reopen Block&lt;*&gt;</td>\n",
       "    </tr>\n",
       "    <tr>\n",
       "      <th>19</th>\n",
       "      <td>E20</td>\n",
       "      <td>&lt;*&gt;Unexpected error trying to delete block&lt;*&gt;BlockInfo not found in volumeMap&lt;*&gt;</td>\n",
       "    </tr>\n",
       "    <tr>\n",
       "      <th>20</th>\n",
       "      <td>E21</td>\n",
       "      <td>&lt;*&gt;Deleting block&lt;*&gt;file&lt;*&gt;</td>\n",
       "    </tr>\n",
       "    <tr>\n",
       "      <th>21</th>\n",
       "      <td>E22</td>\n",
       "      <td>&lt;*&gt;BLOCK* NameSystem&lt;*&gt;allocateBlock:&lt;*&gt;</td>\n",
       "    </tr>\n",
       "    <tr>\n",
       "      <th>22</th>\n",
       "      <td>E23</td>\n",
       "      <td>&lt;*&gt;BLOCK* NameSystem&lt;*&gt;delete:&lt;*&gt;is added to invalidSet of&lt;*&gt;</td>\n",
       "    </tr>\n",
       "    <tr>\n",
       "      <th>23</th>\n",
       "      <td>E24</td>\n",
       "      <td>&lt;*&gt;BLOCK* Removing block&lt;*&gt;from neededReplications as it does not belong to any file&lt;*&gt;</td>\n",
       "    </tr>\n",
       "    <tr>\n",
       "      <th>24</th>\n",
       "      <td>E25</td>\n",
       "      <td>&lt;*&gt;BLOCK* ask&lt;*&gt;to replicate&lt;*&gt;to&lt;*&gt;</td>\n",
       "    </tr>\n",
       "    <tr>\n",
       "      <th>25</th>\n",
       "      <td>E26</td>\n",
       "      <td>&lt;*&gt;BLOCK* NameSystem&lt;*&gt;addStoredBlock: blockMap updated:&lt;*&gt;is added to&lt;*&gt;size&lt;*&gt;</td>\n",
       "    </tr>\n",
       "    <tr>\n",
       "      <th>26</th>\n",
       "      <td>E27</td>\n",
       "      <td>&lt;*&gt;BLOCK* NameSystem&lt;*&gt;addStoredBlock: Redundant addStoredBlock request received for&lt;*&gt;on&lt;*&gt;size&lt;*&gt;</td>\n",
       "    </tr>\n",
       "    <tr>\n",
       "      <th>27</th>\n",
       "      <td>E28</td>\n",
       "      <td>&lt;*&gt;BLOCK* NameSystem&lt;*&gt;addStoredBlock: addStoredBlock request received for&lt;*&gt;on&lt;*&gt;size&lt;*&gt;But it does not belong to any file.</td>\n",
       "    </tr>\n",
       "    <tr>\n",
       "      <th>28</th>\n",
       "      <td>E29</td>\n",
       "      <td>&lt;*&gt;PendingReplicationMonitor timed out block&lt;*&gt;</td>\n",
       "    </tr>\n",
       "    <tr>\n",
       "      <th>29</th>\n",
       "      <td>E30</td>\n",
       "      <td>&lt;*&gt;BLOCK* ask &lt;*&gt; to delete &lt;*&gt;</td>\n",
       "    </tr>\n",
       "  </tbody>\n",
       "</table>\n",
       "</div>"
      ],
      "text/plain": [
       "   EventId                                                                                                                 EventTemplate\n",
       "0       E1                                                                                        <*>Adding an already existing block<*>\n",
       "1       E2                                                                                              <*>Verification succeeded for<*>\n",
       "2       E3                                                                                                       <*>Served block<*>to<*>\n",
       "3       E4                                                                                        <*>Got exception while serving<*>to<*>\n",
       "4       E5                                                                                          <*>Receiving block<*>src:<*>dest:<*>\n",
       "5       E6                                                                                 <*>Received block<*>src:<*>dest:<*>of size<*>\n",
       "6       E7                                                                                         <*>writeBlock<*>received exception<*>\n",
       "7       E8                                                                               <*>PacketResponder<*>for block<*>Interrupted<*>\n",
       "8       E9                                                                                         <*>Received block<*>of size<*>from<*>\n",
       "9      E10                                                                                             <*>PacketResponder<*>Exception<*>\n",
       "10     E11                                                                           <*>PacketResponder <*> for block <*> terminating<*>\n",
       "11     E12                                                                                    <*>:Exception writing block<*>to mirror<*>\n",
       "12     E13                                                                                        <*>Receiving empty packet for block<*>\n",
       "13     E14                                                                                     <*>Exception in receiveBlock for block<*>\n",
       "14     E15                                                   <*>Changing block file offset of block<*>from<*>to<*>meta file offset to<*>\n",
       "15     E16                                                                                                 <*>:Transmitted block<*>to<*>\n",
       "16     E17                                                                                          <*>:Failed to transfer<*>to<*>got<*>\n",
       "17     E18                                                                                  <*>Starting thread to transfer block<*>to<*>\n",
       "18     E19                                                                                                            <*>Reopen Block<*>\n",
       "19     E20                                              <*>Unexpected error trying to delete block<*>BlockInfo not found in volumeMap<*>\n",
       "20     E21                                                                                                   <*>Deleting block<*>file<*>\n",
       "21     E22                                                                                      <*>BLOCK* NameSystem<*>allocateBlock:<*>\n",
       "22     E23                                                                 <*>BLOCK* NameSystem<*>delete:<*>is added to invalidSet of<*>\n",
       "23     E24                                       <*>BLOCK* Removing block<*>from neededReplications as it does not belong to any file<*>\n",
       "24     E25                                                                                          <*>BLOCK* ask<*>to replicate<*>to<*>\n",
       "25     E26                                              <*>BLOCK* NameSystem<*>addStoredBlock: blockMap updated:<*>is added to<*>size<*>\n",
       "26     E27                           <*>BLOCK* NameSystem<*>addStoredBlock: Redundant addStoredBlock request received for<*>on<*>size<*>\n",
       "27     E28  <*>BLOCK* NameSystem<*>addStoredBlock: addStoredBlock request received for<*>on<*>size<*>But it does not belong to any file.\n",
       "28     E29                                                                               <*>PendingReplicationMonitor timed out block<*>\n",
       "29     E30                                                                                               <*>BLOCK* ask <*> to delete <*>"
      ]
     },
     "execution_count": 4,
     "metadata": {},
     "output_type": "execute_result"
    }
   ],
   "source": [
    "# Identified log patterns\n",
    "log_structured = pd.read_csv(\"Spell_result/\" +  \"HDFS_templates.csv\") \n",
    "log_structured"
   ]
  },
  {
   "cell_type": "markdown",
   "metadata": {},
   "source": [
    "## Log sequences are divided based on each unique block_id\n",
    "## Block_ids represent different sessions of log events related to each other"
   ]
  },
  {
   "cell_type": "code",
   "execution_count": 5,
   "metadata": {},
   "outputs": [
    {
     "name": "stdout",
     "output_type": "stream",
     "text": [
      "5 5 5 22 11 9 11 9 11 9 26 26 26 23 23 23 21 21 21\n",
      "22 5 5 5 11 9 11 9 11 9 26 26 26\n",
      "22 5 5 5 26 26 26 11 9 11 9 11 9 2 3 23 23 23 21 21 21\n",
      "22 5 5 5 11 9 11 9 11 9 26 26 26\n",
      "22 5 5 5 26 26 26 11 9 11 9 11 9 4 3 3 3 4 3 4 3 3 4 3 3 23 23 23 21 21 21\n",
      "22 5 5 5 26 26 26 11 9 11 9 11 9 3 3 4 3 4 3 3 3 4 4 3 3 23 23 23 21 21 21\n",
      "5 22 5 5 26 26 11 9 11 9 11 9 26 23 23 23 21 21 21\n",
      "22 5 5 5 26 26 26 11 9 11 9 11 9 4 4 3 2 23 23 23 21 21 21\n",
      "5 22 5 5 11 9 11 9 11 9 26 26 26 23 23 23 21 21 21\n",
      "5 5 5 22 11 9 11 9 11 9 26 26 26 23 23 23 21 21 21\n"
     ]
    }
   ],
   "source": [
    "# Log sequences \n",
    "# Rows are divided based on each unique block_id\n",
    "# We create a new row when there is a new block_id in the structured event logs\n",
    "N = 10\n",
    "with open(\"Dataset/HDFS_1/hdfs_train\") as file:  # the a opens it in append mode\n",
    "    for i in range(N):\n",
    "        print(next(file).strip())"
   ]
  },
  {
   "cell_type": "markdown",
   "metadata": {},
   "source": [
    "## Model Training"
   ]
  },
  {
   "cell_type": "code",
   "execution_count": 14,
   "metadata": {},
   "outputs": [
    {
     "name": "stdout",
     "output_type": "stream",
     "text": [
      "4 512 2048 4 0.1\n"
     ]
    },
    {
     "name": "stderr",
     "output_type": "stream",
     "text": [
      "/home/luisselvera/anaconda3/envs/tad/lib/python3.8/site-packages/torch/nn/_reduction.py:44: UserWarning: size_average and reduce args will be deprecated, please use reduction='sum' instead.\n",
      "  warnings.warn(warning.format(ret))\n"
     ]
    },
    {
     "name": "stdout",
     "output_type": "stream",
     "text": [
      "Epoch Step: 1 Loss: 4.403562 Tokens per Sec: 391.772461\n",
      "Epoch Step: 1 Loss: 0.343987 Tokens per Sec: 915.370117\n",
      "tensor(0.3440)\n",
      "Epoch Step: 1 Loss: 0.563722 Tokens per Sec: 478.919495\n",
      "Epoch Step: 1 Loss: 0.205848 Tokens per Sec: 828.172302\n",
      "tensor(0.2058)\n",
      "Epoch Step: 1 Loss: 1.270140 Tokens per Sec: 378.730072\n",
      "Epoch Step: 1 Loss: 0.175697 Tokens per Sec: 914.541321\n",
      "tensor(0.1757)\n",
      "Epoch Step: 1 Loss: 0.693658 Tokens per Sec: 475.359314\n",
      "Epoch Step: 1 Loss: 0.238935 Tokens per Sec: 904.409546\n",
      "tensor(0.2389)\n",
      "Epoch Step: 1 Loss: 0.943268 Tokens per Sec: 471.581909\n",
      "Epoch Step: 1 Loss: 0.244257 Tokens per Sec: 897.173828\n",
      "tensor(0.2443)\n",
      "Epoch Step: 1 Loss: 0.429745 Tokens per Sec: 399.891785\n",
      "Epoch Step: 1 Loss: 0.239586 Tokens per Sec: 910.637939\n",
      "tensor(0.2396)\n",
      "Epoch Step: 1 Loss: 0.594788 Tokens per Sec: 477.464447\n",
      "Epoch Step: 1 Loss: 0.236024 Tokens per Sec: 679.672424\n",
      "tensor(0.2360)\n",
      "Epoch Step: 1 Loss: 0.713302 Tokens per Sec: 395.671295\n",
      "Epoch Step: 1 Loss: 0.229155 Tokens per Sec: 909.131104\n",
      "tensor(0.2292)\n",
      "Epoch Step: 1 Loss: 0.368715 Tokens per Sec: 457.034912\n",
      "Epoch Step: 1 Loss: 0.260522 Tokens per Sec: 882.517456\n",
      "tensor(0.2605)\n",
      "Epoch Step: 1 Loss: 0.419024 Tokens per Sec: 472.717804\n",
      "Epoch Step: 1 Loss: 0.267431 Tokens per Sec: 617.672363\n",
      "tensor(0.2674)\n"
     ]
    }
   ],
   "source": [
    "# Traning with 4 encoders and decoders, 4 attention heads, and dimension of 512\n",
    "# Hyperparameters are smaller than those used in NLP since there is a smaller range of combinations\n",
    "# NLP involves the whole vocabulary of a language, while log detection has a smaller finite number of logs\n",
    "model = tnsf.train(N=4, d_model=512, d_ff=2048, h=4, dropout=0.1)"
   ]
  },
  {
   "cell_type": "markdown",
   "metadata": {},
   "source": [
    "## Model evaluation"
   ]
  },
  {
   "cell_type": "code",
   "execution_count": 15,
   "metadata": {},
   "outputs": [
    {
     "name": "stdout",
     "output_type": "stream",
     "text": [
      "553366\n",
      "553366\n",
      "16838\n",
      "16838\n",
      "0\n",
      "1000\n",
      "2000\n",
      "3000\n",
      "4000\n",
      "0\n",
      "1000\n",
      "2000\n",
      "3000\n",
      "4000\n",
      "True positive (TP): 5000, \n",
      "true negative (TN): 4653, \n",
      "false positive (FP): 347, \n",
      "false negative (FN): 0, \n",
      "Accuracy: 96.530%, \n",
      "Precision: 93.510%, \n",
      "Recall: 100.000%, \n",
      "F1-measure: 96.646%\n",
      "elapsed_time: 476.210s\n"
     ]
    }
   ],
   "source": [
    "tnsf.test(model)"
   ]
  },
  {
   "cell_type": "markdown",
   "metadata": {},
   "source": [
    "## Visualization"
   ]
  },
  {
   "cell_type": "code",
   "execution_count": 4,
   "metadata": {},
   "outputs": [],
   "source": [
    "#We create log sequences with 10 log keys\n",
    "WINDOW_SIZE = 10"
   ]
  },
  {
   "cell_type": "code",
   "execution_count": 31,
   "metadata": {},
   "outputs": [],
   "source": [
    "model = torch.load(\"Model/centralized_models.pt\")\n",
    "model.eval()\n",
    "\n",
    "# Parameter\n",
    "WINDOW_SIZE = 10\n",
    "\n",
    "# Log sequence\n",
    "#5 5 22 5 11 9 11 9 11 9 26 26 26 23 23 23 21 21 21 20\n",
    "# seq = [5, 5, 22, 5, 11, 9, 11, 9, 11, 9, 26, 26, 26, 23, 23, 23, 21, 21, 21, 20]\n",
    "seq = [22, 5, 5, 5, 26, 26, 26, 11, 9, 11, 9, 11, 9, 3, 3, 4, 3, 4, 3, 3]\n",
    "\n",
    "#Input log sequence\n",
    "src = seq[:WINDOW_SIZE]\n",
    "#Output log sequence\n",
    "tgt = seq[WINDOW_SIZE:]\n",
    "# src = [5, 5, 22, 5, 11, 9, 11, 9, 11, 9]\n",
    "# tgt = [26, 26, 26, 23, 23, 23, 21, 21, 21, 20]\n",
    "\n",
    "# Input log sequence\n",
    "src = seq[:WINDOW_SIZE]\n",
    "# Expected log sequence\n",
    "tgt = seq[WINDOW_SIZE:]\n",
    "\n",
    "src_mask = Variable(torch.ones(1, 1, WINDOW_SIZE+1) )\n",
    "\n",
    "t1 = torch.from_numpy(np.zeros((1,WINDOW_SIZE+1),dtype=int))\n",
    "t1[0][1:WINDOW_SIZE+1] = torch.tensor(src, dtype=torch.float).to(device)\n",
    "t1[0][0]=1\n",
    "\n",
    "t2 = torch.from_numpy(np.zeros((1,WINDOW_SIZE+1),dtype=int))\n",
    "t2[0][0:len(tgt)] = torch.tensor(tgt, dtype=torch.float).to(device)\n",
    "\n",
    "tgt = Variable(t2, requires_grad=False)\n",
    "src = Variable(t1, requires_grad=False)\n",
    "\n",
    "# Predicted log sequence\n",
    "tgt_pred = tnsf.greedy_decode(model, src, src_mask, tgt, WINDOW_SIZE+1, 1, False, 9) "
   ]
  },
  {
   "cell_type": "code",
   "execution_count": 32,
   "metadata": {},
   "outputs": [],
   "source": [
    "src= src[0][1:]\n",
    "tgt_pred = np.reshape(tgt_pred.numpy(), (10,))\n",
    "src = list(np.reshape(src.numpy(), (10,)))"
   ]
  },
  {
   "cell_type": "code",
   "execution_count": 33,
   "metadata": {},
   "outputs": [],
   "source": [
    "def draw(data, x, y, ax, cbar_ax):\n",
    "    seaborn.heatmap(data, xticklabels=x, square=True, yticklabels=y, vmin=0.0, vmax=1.0,annot=False, cbar_ax=cbar_ax,cbar=True, ax=ax)"
   ]
  },
  {
   "cell_type": "markdown",
   "metadata": {},
   "source": [
    "### Horizontal axis represents the logs the model is predicting. \n",
    "### Vertical axis are the logs that the model is focusing on, applying attention, to predict next log on horizontal axis."
   ]
  },
  {
   "cell_type": "code",
   "execution_count": 34,
   "metadata": {},
   "outputs": [
    {
     "data": {
      "image/png": "[encoded data removed]",
      "text/plain": [
       "<Figure size 1440x1440 with 4 Axes>"
      ]
     },
     "metadata": {
      "needs_background": "light"
     },
     "output_type": "display_data"
    },
    {
     "data": {
      "image/png": "[encoded data removed]",
      "text/plain": [
       "<Figure size 1440x1440 with 4 Axes>"
      ]
     },
     "metadata": {
      "needs_background": "light"
     },
     "output_type": "display_data"
    }
   ],
   "source": [
    "#Attention heatmatp\n",
    "r = 0\n",
    "for layer in range(2):\n",
    "    fig, axs = plt.subplots(1,3, figsize=(20, 20))\n",
    "    cbar_ax = fig.add_axes([.905, .4, .02, .2])\n",
    "    for h in range(1):\n",
    "        draw(model.encoder.layers[layer].self_attn.attn[0, h].data, src, src if h ==0 else [], ax=axs[r], cbar_ax=cbar_ax )\n",
    "        axs[r].set_xlabel('Input Sequence')\n",
    "        axs[r].set_ylabel('Input Sequence')\n",
    "        axs[r].set_title(\"Attention Heatmap: Encoder Layer \" + str(layer+1))\n",
    "        draw(model.decoder.layers[layer].self_attn.attn[0, h].data[:len(tgt_pred), :len(tgt_pred)], tgt_pred, tgt_pred if h ==0 else [], ax=axs[r+1], cbar_ax=cbar_ax )\n",
    "        axs[r + 1].set_xlabel('Output Sequence')\n",
    "        axs[r + 1].set_ylabel('Output Sequence')        \n",
    "        axs[r + 1].set_title(\"Attention Heatmap: Decoder Self Layer \" + str(layer+1))\n",
    "        draw(model.decoder.layers[layer].self_attn.attn[0, h].data[:len(tgt_pred), :len(src)], src, tgt_pred if h ==0 else [], ax=axs[r+2], cbar_ax=cbar_ax )\n",
    "        axs[r + 2].set_xlabel('Input Sequence')\n",
    "        axs[r + 2].set_ylabel('Output Sequence')\n",
    "        axs[r + 2].set_title(\"Attention Heatmap: Decoder Src Layer \" + str(layer+1))\n",
    "        \n",
    "    plt.show()"
   ]
  },
  {
   "cell_type": "markdown",
   "metadata": {},
   "source": [
    "|  | <font size=\"4\">Positive</font>  | <font size=\"4\">Negative</font> |\n",
    "| --- | --- | --- |\n",
    "| <font size=\"4\">**True**</font> | <font size=\"4\">There is a problem and alarm turns on </font>| <font size=\"4\">There is no problem and no alarm </font>|\n",
    "| <font size=\"4\">**False**</font> | <font size=\"4\">There is no problem but alarm turns on</font> | <font size=\"4\">There is a problem but no alarm</font> |"
   ]
  },
  {
   "cell_type": "markdown",
   "metadata": {},
   "source": [
    "## Normal behavior log sequence"
   ]
  },
  {
   "cell_type": "code",
   "execution_count": 35,
   "metadata": {},
   "outputs": [
    {
     "name": "stdout",
     "output_type": "stream",
     "text": [
      "Incoming log: tensor(9)\n",
      "Candidate logs: tensor([18, 16, 25, 15,  6, 21, 23, 11,  9]) \n",
      "\n",
      "Incoming log: tensor(11)\n",
      "Candidate logs: tensor([27, 10,  2,  3, 26, 19,  4,  9, 11]) \n",
      "\n",
      "Incoming log: tensor(9)\n",
      "Candidate logs: tensor([18, 16, 25, 15,  6, 21, 23, 11,  9]) \n",
      "\n",
      "Incoming log: tensor(3)\n",
      "Candidate logs: tensor([14, 21,  9, 23, 26, 11,  2,  3,  4]) \n",
      "\n",
      "Incoming log: tensor(3)\n",
      "Candidate logs: tensor([18,  9, 14, 26, 23,  2, 11,  4,  3]) \n",
      "\n",
      "Incoming log: tensor(4)\n",
      "Candidate logs: tensor([14, 26,  9, 21, 23, 11,  2,  4,  3]) \n",
      "\n",
      "Incoming log: tensor(3)\n",
      "Candidate logs: tensor([14, 21,  9, 26, 11, 23,  2,  4,  3]) \n",
      "\n",
      "Incoming log: tensor(4)\n",
      "Candidate logs: tensor([14, 26,  9, 11, 21, 23,  2,  3,  4]) \n",
      "\n",
      "Incoming log: tensor(3)\n",
      "Candidate logs: tensor([14, 26,  9, 11, 21, 23,  2,  4,  3]) \n",
      "\n",
      "Incoming log: tensor(3)\n",
      "Candidate logs: tensor([14, 26, 21, 23,  9, 11,  2,  4,  3]) \n",
      "\n",
      "Normal log sequence: true negative\n",
      " tensor([[ 9, 11,  9,  3,  3,  4,  3,  4,  3,  3]])\n"
     ]
    }
   ],
   "source": [
    "# 22 5 5 5 26 26 26 11 9 11 9 11 9 3 3 4 3 4 3 3 3 4 3 3 4 23 23 23 21 21 21 \n",
    "#Log sequence\n",
    "seq = [22, 5, 5, 5, 26, 26, 26, 11, 9, 11, 9, 11, 9, 3, 3, 4, 3, 4, 3, 3]\n",
    "\n",
    "#Input log sequence\n",
    "src = seq[:WINDOW_SIZE]\n",
    "#Output log sequence\n",
    "tgt = seq[WINDOW_SIZE:]\n",
    "\n",
    "t1 = torch.from_numpy(np.zeros((1,WINDOW_SIZE+1),dtype=int))\n",
    "t1[0][1:WINDOW_SIZE+1] = torch.tensor(src, dtype=torch.float).to(device)\n",
    "t1[0][0]=1\n",
    "\n",
    "t2 = torch.from_numpy(np.zeros((1,WINDOW_SIZE+1),dtype=int))\n",
    "t2[0][0:len(tgt)] = torch.tensor(tgt, dtype=torch.float).to(device)\n",
    "\n",
    "tgt = Variable(t2, requires_grad=False)\n",
    "src = Variable(t1, requires_grad=False)\n",
    "\n",
    "#Predict log sequence\n",
    "tgt_pred = tnsf.greedy_decode(model, src, src_mask, tgt, WINDOW_SIZE+1, 1, True, 9) \n",
    "\n",
    "if -1 in tgt_pred: print(\"Abnormal log sequence: false positive\")\n",
    "else: print(\"Normal log sequence: true negative\\n\", tgt_pred)"
   ]
  },
  {
   "cell_type": "markdown",
   "metadata": {},
   "source": [
    "## Abnormal behavior log sequence"
   ]
  },
  {
   "cell_type": "code",
   "execution_count": 36,
   "metadata": {},
   "outputs": [
    {
     "name": "stdout",
     "output_type": "stream",
     "text": [
      "Incoming log: tensor(26)\n",
      "Candidate logs: tensor([18, 16, 25, 15,  6, 21, 23,  9, 11]) \n",
      "\n",
      "Abnormal log sequence: true positive\n",
      " tensor([[26, -1]])\n"
     ]
    }
   ],
   "source": [
    "#Log sequence\n",
    "\n",
    "seq = [ 5, 22, 11, 9, 11, 9, 11, 9, 26, 26, 26, 23, 23, 23, 21, 21, 21, 20, 20, 20]\n",
    "#Input log sequence\n",
    "src = seq[:WINDOW_SIZE]\n",
    "#Output log sequence\n",
    "tgt = seq[WINDOW_SIZE:]\n",
    "\n",
    "t1 = torch.from_numpy(np.zeros((1,WINDOW_SIZE+1),dtype=int))\n",
    "t1[0][0]=1\n",
    "t1[0][1:WINDOW_SIZE+1] = torch.tensor(src, dtype=torch.float).to(device)\n",
    "\n",
    "\n",
    "src = Variable(t1, requires_grad=False)\n",
    "t2[0][0:len(tgt)] = torch.tensor(tgt, dtype=torch.float).to(device)\n",
    "tgt = Variable(t2, requires_grad=False)\n",
    "\n",
    "#Predict log sequence\n",
    "tgt_pred = tnsf.greedy_decode(model, src, src_mask, tgt, WINDOW_SIZE+1, 1, True, 9) \n",
    "\n",
    "#If -1 in predicted sequence, anomaly detected\n",
    "if -1 in tgt_pred: \n",
    "    print(\"Abnormal log sequence: true positive\\n\", tgt_pred)\n",
    "#Otherwise, no anomaly was detected\n",
    "else: \n",
    "    print(\"Normal log sequence: false negative\")"
   ]
  },
  {
   "cell_type": "code",
   "execution_count": 39,
   "metadata": {},
   "outputs": [
    {
     "data": {
      "text/plain": [
       "'Spell'"
      ]
     },
     "execution_count": 39,
     "metadata": {},
     "output_type": "execute_result"
    }
   ],
   "source": [
    "algorithm"
   ]
  },
  {
   "cell_type": "markdown",
   "metadata": {},
   "source": [
    "## Find logs that caused anomaly"
   ]
  },
  {
   "cell_type": "code",
   "execution_count": 41,
   "metadata": {},
   "outputs": [
    {
     "name": "stdout",
     "output_type": "stream",
     "text": [
      "26 <*>BLOCK* NameSystem<*>addStoredBlock: blockMap updated:<*>is added to<*>size<*>\n"
     ]
    }
   ],
   "source": [
    "#Backtrack to logs that caused anomaly\n",
    "ad.backtrace(tgt_pred, log_source, algorithm)"
   ]
  },
  {
   "cell_type": "markdown",
   "metadata": {},
   "source": [
    "## Mapping between log key and event templates"
   ]
  },
  {
   "cell_type": "code",
   "execution_count": 281,
   "metadata": {},
   "outputs": [
    {
     "data": {
      "text/html": [
       "<div>\n",
       "<style scoped>\n",
       "    .dataframe tbody tr th:only-of-type {\n",
       "        vertical-align: middle;\n",
       "    }\n",
       "\n",
       "    .dataframe tbody tr th {\n",
       "        vertical-align: top;\n",
       "    }\n",
       "\n",
       "    .dataframe thead th {\n",
       "        text-align: right;\n",
       "    }\n",
       "</style>\n",
       "<table border=\"1\" class=\"dataframe\">\n",
       "  <thead>\n",
       "    <tr style=\"text-align: right;\">\n",
       "      <th></th>\n",
       "      <th>EventId</th>\n",
       "      <th>EventTemplate</th>\n",
       "    </tr>\n",
       "  </thead>\n",
       "  <tbody>\n",
       "    <tr>\n",
       "      <th>0</th>\n",
       "      <td>E1</td>\n",
       "      <td>&lt;*&gt;Adding an already existing block&lt;*&gt;</td>\n",
       "    </tr>\n",
       "    <tr>\n",
       "      <th>1</th>\n",
       "      <td>E2</td>\n",
       "      <td>&lt;*&gt;Verification succeeded for&lt;*&gt;</td>\n",
       "    </tr>\n",
       "    <tr>\n",
       "      <th>2</th>\n",
       "      <td>E3</td>\n",
       "      <td>&lt;*&gt;Served block&lt;*&gt;to&lt;*&gt;</td>\n",
       "    </tr>\n",
       "    <tr>\n",
       "      <th>3</th>\n",
       "      <td>E4</td>\n",
       "      <td>&lt;*&gt;Got exception while serving&lt;*&gt;to&lt;*&gt;</td>\n",
       "    </tr>\n",
       "    <tr>\n",
       "      <th>4</th>\n",
       "      <td>E5</td>\n",
       "      <td>&lt;*&gt;Receiving block&lt;*&gt;src:&lt;*&gt;dest:&lt;*&gt;</td>\n",
       "    </tr>\n",
       "    <tr>\n",
       "      <th>5</th>\n",
       "      <td>E6</td>\n",
       "      <td>&lt;*&gt;Received block&lt;*&gt;src:&lt;*&gt;dest:&lt;*&gt;of size&lt;*&gt;</td>\n",
       "    </tr>\n",
       "    <tr>\n",
       "      <th>6</th>\n",
       "      <td>E7</td>\n",
       "      <td>&lt;*&gt;writeBlock&lt;*&gt;received exception&lt;*&gt;</td>\n",
       "    </tr>\n",
       "    <tr>\n",
       "      <th>7</th>\n",
       "      <td>E8</td>\n",
       "      <td>&lt;*&gt;PacketResponder&lt;*&gt;for block&lt;*&gt;Interrupted&lt;*&gt;</td>\n",
       "    </tr>\n",
       "    <tr>\n",
       "      <th>8</th>\n",
       "      <td>E9</td>\n",
       "      <td>&lt;*&gt;Received block&lt;*&gt;of size&lt;*&gt;from&lt;*&gt;</td>\n",
       "    </tr>\n",
       "    <tr>\n",
       "      <th>9</th>\n",
       "      <td>E10</td>\n",
       "      <td>&lt;*&gt;PacketResponder&lt;*&gt;Exception&lt;*&gt;</td>\n",
       "    </tr>\n",
       "    <tr>\n",
       "      <th>10</th>\n",
       "      <td>E11</td>\n",
       "      <td>&lt;*&gt;PacketResponder &lt;*&gt; for block &lt;*&gt; terminating&lt;*&gt;</td>\n",
       "    </tr>\n",
       "    <tr>\n",
       "      <th>11</th>\n",
       "      <td>E12</td>\n",
       "      <td>&lt;*&gt;:Exception writing block&lt;*&gt;to mirror&lt;*&gt;</td>\n",
       "    </tr>\n",
       "    <tr>\n",
       "      <th>12</th>\n",
       "      <td>E13</td>\n",
       "      <td>&lt;*&gt;Receiving empty packet for block&lt;*&gt;</td>\n",
       "    </tr>\n",
       "    <tr>\n",
       "      <th>13</th>\n",
       "      <td>E14</td>\n",
       "      <td>&lt;*&gt;Exception in receiveBlock for block&lt;*&gt;</td>\n",
       "    </tr>\n",
       "    <tr>\n",
       "      <th>14</th>\n",
       "      <td>E15</td>\n",
       "      <td>&lt;*&gt;Changing block file offset of block&lt;*&gt;from&lt;*&gt;to&lt;*&gt;meta file offset to&lt;*&gt;</td>\n",
       "    </tr>\n",
       "    <tr>\n",
       "      <th>15</th>\n",
       "      <td>E16</td>\n",
       "      <td>&lt;*&gt;:Transmitted block&lt;*&gt;to&lt;*&gt;</td>\n",
       "    </tr>\n",
       "    <tr>\n",
       "      <th>16</th>\n",
       "      <td>E17</td>\n",
       "      <td>&lt;*&gt;:Failed to transfer&lt;*&gt;to&lt;*&gt;got&lt;*&gt;</td>\n",
       "    </tr>\n",
       "    <tr>\n",
       "      <th>17</th>\n",
       "      <td>E18</td>\n",
       "      <td>&lt;*&gt;Starting thread to transfer block&lt;*&gt;to&lt;*&gt;</td>\n",
       "    </tr>\n",
       "    <tr>\n",
       "      <th>18</th>\n",
       "      <td>E19</td>\n",
       "      <td>&lt;*&gt;Reopen Block&lt;*&gt;</td>\n",
       "    </tr>\n",
       "    <tr>\n",
       "      <th>19</th>\n",
       "      <td>E20</td>\n",
       "      <td>&lt;*&gt;Unexpected error trying to delete block&lt;*&gt;BlockInfo not found in volumeMap&lt;*&gt;</td>\n",
       "    </tr>\n",
       "    <tr>\n",
       "      <th>20</th>\n",
       "      <td>E21</td>\n",
       "      <td>&lt;*&gt;Deleting block&lt;*&gt;file&lt;*&gt;</td>\n",
       "    </tr>\n",
       "    <tr>\n",
       "      <th>21</th>\n",
       "      <td>E22</td>\n",
       "      <td>&lt;*&gt;BLOCK* NameSystem&lt;*&gt;allocateBlock:&lt;*&gt;</td>\n",
       "    </tr>\n",
       "    <tr>\n",
       "      <th>22</th>\n",
       "      <td>E23</td>\n",
       "      <td>&lt;*&gt;BLOCK* NameSystem&lt;*&gt;delete:&lt;*&gt;is added to invalidSet of&lt;*&gt;</td>\n",
       "    </tr>\n",
       "    <tr>\n",
       "      <th>23</th>\n",
       "      <td>E24</td>\n",
       "      <td>&lt;*&gt;BLOCK* Removing block&lt;*&gt;from neededReplications as it does not belong to any file&lt;*&gt;</td>\n",
       "    </tr>\n",
       "    <tr>\n",
       "      <th>24</th>\n",
       "      <td>E25</td>\n",
       "      <td>&lt;*&gt;BLOCK* ask&lt;*&gt;to replicate&lt;*&gt;to&lt;*&gt;</td>\n",
       "    </tr>\n",
       "    <tr>\n",
       "      <th>25</th>\n",
       "      <td>E26</td>\n",
       "      <td>&lt;*&gt;BLOCK* NameSystem&lt;*&gt;addStoredBlock: blockMap updated:&lt;*&gt;is added to&lt;*&gt;size&lt;*&gt;</td>\n",
       "    </tr>\n",
       "    <tr>\n",
       "      <th>26</th>\n",
       "      <td>E27</td>\n",
       "      <td>&lt;*&gt;BLOCK* NameSystem&lt;*&gt;addStoredBlock: Redundant addStoredBlock request received for&lt;*&gt;on&lt;*&gt;size&lt;*&gt;</td>\n",
       "    </tr>\n",
       "    <tr>\n",
       "      <th>27</th>\n",
       "      <td>E28</td>\n",
       "      <td>&lt;*&gt;BLOCK* NameSystem&lt;*&gt;addStoredBlock: addStoredBlock request received for&lt;*&gt;on&lt;*&gt;size&lt;*&gt;But it does not belong to any file.</td>\n",
       "    </tr>\n",
       "    <tr>\n",
       "      <th>28</th>\n",
       "      <td>E29</td>\n",
       "      <td>&lt;*&gt;PendingReplicationMonitor timed out block&lt;*&gt;</td>\n",
       "    </tr>\n",
       "    <tr>\n",
       "      <th>29</th>\n",
       "      <td>E30</td>\n",
       "      <td>&lt;*&gt;BLOCK* ask &lt;*&gt; to delete &lt;*&gt;</td>\n",
       "    </tr>\n",
       "  </tbody>\n",
       "</table>\n",
       "</div>"
      ],
      "text/plain": [
       "   EventId                                                                                                                 EventTemplate\n",
       "0       E1                                                                                        <*>Adding an already existing block<*>\n",
       "1       E2                                                                                              <*>Verification succeeded for<*>\n",
       "2       E3                                                                                                       <*>Served block<*>to<*>\n",
       "3       E4                                                                                        <*>Got exception while serving<*>to<*>\n",
       "4       E5                                                                                          <*>Receiving block<*>src:<*>dest:<*>\n",
       "5       E6                                                                                 <*>Received block<*>src:<*>dest:<*>of size<*>\n",
       "6       E7                                                                                         <*>writeBlock<*>received exception<*>\n",
       "7       E8                                                                               <*>PacketResponder<*>for block<*>Interrupted<*>\n",
       "8       E9                                                                                         <*>Received block<*>of size<*>from<*>\n",
       "9      E10                                                                                             <*>PacketResponder<*>Exception<*>\n",
       "10     E11                                                                           <*>PacketResponder <*> for block <*> terminating<*>\n",
       "11     E12                                                                                    <*>:Exception writing block<*>to mirror<*>\n",
       "12     E13                                                                                        <*>Receiving empty packet for block<*>\n",
       "13     E14                                                                                     <*>Exception in receiveBlock for block<*>\n",
       "14     E15                                                   <*>Changing block file offset of block<*>from<*>to<*>meta file offset to<*>\n",
       "15     E16                                                                                                 <*>:Transmitted block<*>to<*>\n",
       "16     E17                                                                                          <*>:Failed to transfer<*>to<*>got<*>\n",
       "17     E18                                                                                  <*>Starting thread to transfer block<*>to<*>\n",
       "18     E19                                                                                                            <*>Reopen Block<*>\n",
       "19     E20                                              <*>Unexpected error trying to delete block<*>BlockInfo not found in volumeMap<*>\n",
       "20     E21                                                                                                   <*>Deleting block<*>file<*>\n",
       "21     E22                                                                                      <*>BLOCK* NameSystem<*>allocateBlock:<*>\n",
       "22     E23                                                                 <*>BLOCK* NameSystem<*>delete:<*>is added to invalidSet of<*>\n",
       "23     E24                                       <*>BLOCK* Removing block<*>from neededReplications as it does not belong to any file<*>\n",
       "24     E25                                                                                          <*>BLOCK* ask<*>to replicate<*>to<*>\n",
       "25     E26                                              <*>BLOCK* NameSystem<*>addStoredBlock: blockMap updated:<*>is added to<*>size<*>\n",
       "26     E27                           <*>BLOCK* NameSystem<*>addStoredBlock: Redundant addStoredBlock request received for<*>on<*>size<*>\n",
       "27     E28  <*>BLOCK* NameSystem<*>addStoredBlock: addStoredBlock request received for<*>on<*>size<*>But it does not belong to any file.\n",
       "28     E29                                                                               <*>PendingReplicationMonitor timed out block<*>\n",
       "29     E30                                                                                               <*>BLOCK* ask <*> to delete <*>"
      ]
     },
     "execution_count": 281,
     "metadata": {},
     "output_type": "execute_result"
    }
   ],
   "source": [
    "#Mapping between log key and event template\n",
    "log_structured = pd.read_csv(\"Spell_result/\" +  \"HDFS_templates.csv\") \n",
    "log_structured"
   ]
  },
  {
   "cell_type": "code",
   "execution_count": null,
   "metadata": {},
   "outputs": [],
   "source": []
  }
 ],
 "metadata": {
  "kernelspec": {
   "display_name": "tad",
   "language": "python",
   "name": "tad"
  },
  "language_info": {
   "codemirror_mode": {
    "name": "ipython",
    "version": 3
   },
   "file_extension": ".py",
   "mimetype": "text/x-python",
   "name": "python",
   "nbconvert_exporter": "python",
   "pygments_lexer": "ipython3",
   "version": "3.8.5"
  }
 },
 "nbformat": 4,
 "nbformat_minor": 4
}
