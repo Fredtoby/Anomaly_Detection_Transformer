{
 "cells": [
  {
   "cell_type": "code",
   "execution_count": 59,
   "metadata": {},
   "outputs": [
    {
     "name": "stdout",
     "output_type": "stream",
     "text": [
      "cuda\n"
     ]
    }
   ],
   "source": [
    "import torch\n",
    "import torch.nn as nn\n",
    "import torch.nn.functional as F\n",
    "from torch.autograd import Variable\n",
    "import numpy as np\n",
    "import importlib\n",
    "import pandas as pd\n",
    "import seaborn\n",
    "import matplotlib.pyplot as plt\n",
    "\n",
    "import Transformer as tnsf\n",
    "import utils as ad\n",
    "\n",
    "importlib.reload(tnsf)\n",
    "importlib.reload(ad)\n",
    "device = torch.device(\"cuda\" if torch.cuda.is_available() else \"cpu\")\n",
    "print(device)"
   ]
  },
  {
   "cell_type": "code",
   "execution_count": 57,
   "metadata": {},
   "outputs": [],
   "source": [
    "pd.options.display.width = 400\n",
    "pd.options.display.max_colwidth = 400"
   ]
  },
  {
   "cell_type": "code",
   "execution_count": 60,
   "metadata": {},
   "outputs": [
    {
     "name": "stdout",
     "output_type": "stream",
     "text": [
      "Processed 100.0% of log lines.\n",
      "Parsing done. [Time taken: 0:00:15.720655]\n"
     ]
    }
   ],
   "source": [
    "#Parse from file\n",
    "log_file  = 'HDFS.log'\n",
    "log_source  = 'HDFS'\n",
    "algorithm = 'Spell'\n",
    "ad.parse(log_source, log_file, algorithm, labeled = False)"
   ]
  },
  {
   "cell_type": "code",
   "execution_count": 61,
   "metadata": {},
   "outputs": [
    {
     "name": "stdout",
     "output_type": "stream",
     "text": [
      "081109 203518 143 INFO dfs.DataNode$DataXceiver: Receiving block blk_-1608999687919862906 src: /10.250.19.102:54106 dest: /10.250.19.102:50010\n",
      "081109 203518 35 INFO dfs.FSNamesystem: BLOCK* NameSystem.allocateBlock: /mnt/hadoop/mapred/system/job_200811092030_0001/job.jar. blk_-1608999687919862906\n",
      "081109 203519 143 INFO dfs.DataNode$DataXceiver: Receiving block blk_-1608999687919862906 src: /10.250.10.6:40524 dest: /10.250.10.6:50010\n",
      "081109 203519 145 INFO dfs.DataNode$DataXceiver: Receiving block blk_-1608999687919862906 src: /10.250.14.224:42420 dest: /10.250.14.224:50010\n",
      "081109 203519 145 INFO dfs.DataNode$PacketResponder: PacketResponder 1 for block blk_-1608999687919862906 terminating\n",
      "081109 203519 145 INFO dfs.DataNode$PacketResponder: PacketResponder 2 for block blk_-1608999687919862906 terminating\n",
      "081109 203519 145 INFO dfs.DataNode$PacketResponder: Received block blk_-1608999687919862906 of size 91178 from /10.250.10.6\n",
      "081109 203519 145 INFO dfs.DataNode$PacketResponder: Received block blk_-1608999687919862906 of size 91178 from /10.250.19.102\n",
      "081109 203519 147 INFO dfs.DataNode$PacketResponder: PacketResponder 0 for block blk_-1608999687919862906 terminating\n",
      "081109 203519 147 INFO dfs.DataNode$PacketResponder: Received block blk_-1608999687919862906 of size 91178 from /10.250.14.224\n"
     ]
    }
   ],
   "source": [
    "# show first 10 lines of log file\n",
    "N = 10\n",
    "with open(\"Dataset/HDFS/HDFS.log\") as file:\n",
    "    for i in range(N): print(next(file).strip())"
   ]
  },
  {
   "cell_type": "code",
   "execution_count": 14,
   "metadata": {},
   "outputs": [
    {
     "data": {
      "text/html": [
       "<div>\n",
       "<style scoped>\n",
       "    .dataframe tbody tr th:only-of-type {\n",
       "        vertical-align: middle;\n",
       "    }\n",
       "\n",
       "    .dataframe tbody tr th {\n",
       "        vertical-align: top;\n",
       "    }\n",
       "\n",
       "    .dataframe thead th {\n",
       "        text-align: right;\n",
       "    }\n",
       "</style>\n",
       "<table border=\"1\" class=\"dataframe\">\n",
       "  <thead>\n",
       "    <tr style=\"text-align: right;\">\n",
       "      <th></th>\n",
       "      <th>EventId</th>\n",
       "      <th>EventTemplate</th>\n",
       "    </tr>\n",
       "  </thead>\n",
       "  <tbody>\n",
       "    <tr>\n",
       "      <th>0</th>\n",
       "      <td>E1</td>\n",
       "      <td>&lt;*&gt;Adding an already existing block&lt;*&gt;</td>\n",
       "    </tr>\n",
       "    <tr>\n",
       "      <th>1</th>\n",
       "      <td>E2</td>\n",
       "      <td>&lt;*&gt;Verification succeeded for&lt;*&gt;</td>\n",
       "    </tr>\n",
       "    <tr>\n",
       "      <th>2</th>\n",
       "      <td>E3</td>\n",
       "      <td>&lt;*&gt;Served block&lt;*&gt;to&lt;*&gt;</td>\n",
       "    </tr>\n",
       "    <tr>\n",
       "      <th>3</th>\n",
       "      <td>E4</td>\n",
       "      <td>&lt;*&gt;Got exception while serving&lt;*&gt;to&lt;*&gt;</td>\n",
       "    </tr>\n",
       "    <tr>\n",
       "      <th>4</th>\n",
       "      <td>E5</td>\n",
       "      <td>&lt;*&gt;Receiving block&lt;*&gt;src:&lt;*&gt;dest:&lt;*&gt;</td>\n",
       "    </tr>\n",
       "    <tr>\n",
       "      <th>5</th>\n",
       "      <td>E6</td>\n",
       "      <td>&lt;*&gt;Received block&lt;*&gt;src:&lt;*&gt;dest:&lt;*&gt;of size&lt;*&gt;</td>\n",
       "    </tr>\n",
       "    <tr>\n",
       "      <th>6</th>\n",
       "      <td>E7</td>\n",
       "      <td>&lt;*&gt;writeBlock&lt;*&gt;received exception&lt;*&gt;</td>\n",
       "    </tr>\n",
       "    <tr>\n",
       "      <th>7</th>\n",
       "      <td>E8</td>\n",
       "      <td>&lt;*&gt;PacketResponder&lt;*&gt;for block&lt;*&gt;Interrupted&lt;*&gt;</td>\n",
       "    </tr>\n",
       "    <tr>\n",
       "      <th>8</th>\n",
       "      <td>E9</td>\n",
       "      <td>&lt;*&gt;Received block&lt;*&gt;of size&lt;*&gt;from&lt;*&gt;</td>\n",
       "    </tr>\n",
       "    <tr>\n",
       "      <th>9</th>\n",
       "      <td>E10</td>\n",
       "      <td>&lt;*&gt;PacketResponder&lt;*&gt;Exception&lt;*&gt;</td>\n",
       "    </tr>\n",
       "    <tr>\n",
       "      <th>10</th>\n",
       "      <td>E11</td>\n",
       "      <td>&lt;*&gt;PacketResponder &lt;*&gt; for block &lt;*&gt; terminating&lt;*&gt;</td>\n",
       "    </tr>\n",
       "    <tr>\n",
       "      <th>11</th>\n",
       "      <td>E12</td>\n",
       "      <td>&lt;*&gt;:Exception writing block&lt;*&gt;to mirror&lt;*&gt;</td>\n",
       "    </tr>\n",
       "    <tr>\n",
       "      <th>12</th>\n",
       "      <td>E13</td>\n",
       "      <td>&lt;*&gt;Receiving empty packet for block&lt;*&gt;</td>\n",
       "    </tr>\n",
       "    <tr>\n",
       "      <th>13</th>\n",
       "      <td>E14</td>\n",
       "      <td>&lt;*&gt;Exception in receiveBlock for block&lt;*&gt;</td>\n",
       "    </tr>\n",
       "    <tr>\n",
       "      <th>14</th>\n",
       "      <td>E15</td>\n",
       "      <td>&lt;*&gt;Changing block file offset of block&lt;*&gt;from&lt;*&gt;to&lt;*&gt;meta file offset to&lt;*&gt;</td>\n",
       "    </tr>\n",
       "    <tr>\n",
       "      <th>15</th>\n",
       "      <td>E16</td>\n",
       "      <td>&lt;*&gt;:Transmitted block&lt;*&gt;to&lt;*&gt;</td>\n",
       "    </tr>\n",
       "    <tr>\n",
       "      <th>16</th>\n",
       "      <td>E17</td>\n",
       "      <td>&lt;*&gt;:Failed to transfer&lt;*&gt;to&lt;*&gt;got&lt;*&gt;</td>\n",
       "    </tr>\n",
       "    <tr>\n",
       "      <th>17</th>\n",
       "      <td>E18</td>\n",
       "      <td>&lt;*&gt;Starting thread to transfer block&lt;*&gt;to&lt;*&gt;</td>\n",
       "    </tr>\n",
       "    <tr>\n",
       "      <th>18</th>\n",
       "      <td>E19</td>\n",
       "      <td>&lt;*&gt;Reopen Block&lt;*&gt;</td>\n",
       "    </tr>\n",
       "    <tr>\n",
       "      <th>19</th>\n",
       "      <td>E20</td>\n",
       "      <td>&lt;*&gt;Unexpected error trying to delete block&lt;*&gt;BlockInfo not found in volumeMap&lt;*&gt;</td>\n",
       "    </tr>\n",
       "    <tr>\n",
       "      <th>20</th>\n",
       "      <td>E21</td>\n",
       "      <td>&lt;*&gt;Deleting block&lt;*&gt;file&lt;*&gt;</td>\n",
       "    </tr>\n",
       "    <tr>\n",
       "      <th>21</th>\n",
       "      <td>E22</td>\n",
       "      <td>&lt;*&gt;BLOCK* NameSystem&lt;*&gt;allocateBlock:&lt;*&gt;</td>\n",
       "    </tr>\n",
       "    <tr>\n",
       "      <th>22</th>\n",
       "      <td>E23</td>\n",
       "      <td>&lt;*&gt;BLOCK* NameSystem&lt;*&gt;delete:&lt;*&gt;is added to invalidSet of&lt;*&gt;</td>\n",
       "    </tr>\n",
       "    <tr>\n",
       "      <th>23</th>\n",
       "      <td>E24</td>\n",
       "      <td>&lt;*&gt;BLOCK* Removing block&lt;*&gt;from neededReplications as it does not belong to any file&lt;*&gt;</td>\n",
       "    </tr>\n",
       "    <tr>\n",
       "      <th>24</th>\n",
       "      <td>E25</td>\n",
       "      <td>&lt;*&gt;BLOCK* ask&lt;*&gt;to replicate&lt;*&gt;to&lt;*&gt;</td>\n",
       "    </tr>\n",
       "    <tr>\n",
       "      <th>25</th>\n",
       "      <td>E26</td>\n",
       "      <td>&lt;*&gt;BLOCK* NameSystem&lt;*&gt;addStoredBlock: blockMap updated:&lt;*&gt;is added to&lt;*&gt;size&lt;*&gt;</td>\n",
       "    </tr>\n",
       "    <tr>\n",
       "      <th>26</th>\n",
       "      <td>E27</td>\n",
       "      <td>&lt;*&gt;BLOCK* NameSystem&lt;*&gt;addStoredBlock: Redundant addStoredBlock request received for&lt;*&gt;on&lt;*&gt;size&lt;*&gt;</td>\n",
       "    </tr>\n",
       "    <tr>\n",
       "      <th>27</th>\n",
       "      <td>E28</td>\n",
       "      <td>&lt;*&gt;BLOCK* NameSystem&lt;*&gt;addStoredBlock: addStoredBlock request received for&lt;*&gt;on&lt;*&gt;size&lt;*&gt;But it does not belong to any file.</td>\n",
       "    </tr>\n",
       "    <tr>\n",
       "      <th>28</th>\n",
       "      <td>E29</td>\n",
       "      <td>&lt;*&gt;PendingReplicationMonitor timed out block&lt;*&gt;</td>\n",
       "    </tr>\n",
       "    <tr>\n",
       "      <th>29</th>\n",
       "      <td>E30</td>\n",
       "      <td>&lt;*&gt;BLOCK* ask &lt;*&gt; to delete &lt;*&gt;</td>\n",
       "    </tr>\n",
       "  </tbody>\n",
       "</table>\n",
       "</div>"
      ],
      "text/plain": [
       "   EventId                                                                                                                 EventTemplate\n",
       "0       E1                                                                                        <*>Adding an already existing block<*>\n",
       "1       E2                                                                                              <*>Verification succeeded for<*>\n",
       "2       E3                                                                                                       <*>Served block<*>to<*>\n",
       "3       E4                                                                                        <*>Got exception while serving<*>to<*>\n",
       "4       E5                                                                                          <*>Receiving block<*>src:<*>dest:<*>\n",
       "5       E6                                                                                 <*>Received block<*>src:<*>dest:<*>of size<*>\n",
       "6       E7                                                                                         <*>writeBlock<*>received exception<*>\n",
       "7       E8                                                                               <*>PacketResponder<*>for block<*>Interrupted<*>\n",
       "8       E9                                                                                         <*>Received block<*>of size<*>from<*>\n",
       "9      E10                                                                                             <*>PacketResponder<*>Exception<*>\n",
       "10     E11                                                                           <*>PacketResponder <*> for block <*> terminating<*>\n",
       "11     E12                                                                                    <*>:Exception writing block<*>to mirror<*>\n",
       "12     E13                                                                                        <*>Receiving empty packet for block<*>\n",
       "13     E14                                                                                     <*>Exception in receiveBlock for block<*>\n",
       "14     E15                                                   <*>Changing block file offset of block<*>from<*>to<*>meta file offset to<*>\n",
       "15     E16                                                                                                 <*>:Transmitted block<*>to<*>\n",
       "16     E17                                                                                          <*>:Failed to transfer<*>to<*>got<*>\n",
       "17     E18                                                                                  <*>Starting thread to transfer block<*>to<*>\n",
       "18     E19                                                                                                            <*>Reopen Block<*>\n",
       "19     E20                                              <*>Unexpected error trying to delete block<*>BlockInfo not found in volumeMap<*>\n",
       "20     E21                                                                                                   <*>Deleting block<*>file<*>\n",
       "21     E22                                                                                      <*>BLOCK* NameSystem<*>allocateBlock:<*>\n",
       "22     E23                                                                 <*>BLOCK* NameSystem<*>delete:<*>is added to invalidSet of<*>\n",
       "23     E24                                       <*>BLOCK* Removing block<*>from neededReplications as it does not belong to any file<*>\n",
       "24     E25                                                                                          <*>BLOCK* ask<*>to replicate<*>to<*>\n",
       "25     E26                                              <*>BLOCK* NameSystem<*>addStoredBlock: blockMap updated:<*>is added to<*>size<*>\n",
       "26     E27                           <*>BLOCK* NameSystem<*>addStoredBlock: Redundant addStoredBlock request received for<*>on<*>size<*>\n",
       "27     E28  <*>BLOCK* NameSystem<*>addStoredBlock: addStoredBlock request received for<*>on<*>size<*>But it does not belong to any file.\n",
       "28     E29                                                                               <*>PendingReplicationMonitor timed out block<*>\n",
       "29     E30                                                                                               <*>BLOCK* ask <*> to delete <*>"
      ]
     },
     "execution_count": 14,
     "metadata": {},
     "output_type": "execute_result"
    }
   ],
   "source": [
    "log_structured = pd.read_csv(\"Drain_result/\" +  \"HDFS_templates.csv\") \n",
    "log_structured"
   ]
  },
  {
   "cell_type": "code",
   "execution_count": 16,
   "metadata": {},
   "outputs": [
    {
     "name": "stdout",
     "output_type": "stream",
     "text": [
      "5 5 5 22 11 9 11 9 11 9 26 26 26 23 23 23 21 21 21\n",
      "22 5 5 5 11 9 11 9 11 9 26 26 26\n",
      "22 5 5 5 26 26 26 11 9 11 9 11 9 2 3 23 23 23 21 21 21\n",
      "22 5 5 5 11 9 11 9 11 9 26 26 26\n",
      "22 5 5 5 26 26 26 11 9 11 9 11 9 4 3 3 3 4 3 4 3 3 4 3 3 23 23 23 21 21 21\n",
      "22 5 5 5 26 26 26 11 9 11 9 11 9 3 3 4 3 4 3 3 3 4 4 3 3 23 23 23 21 21 21\n",
      "5 22 5 5 26 26 11 9 11 9 11 9 26 23 23 23 21 21 21\n",
      "22 5 5 5 26 26 26 11 9 11 9 11 9 4 4 3 2 23 23 23 21 21 21\n",
      "5 22 5 5 11 9 11 9 11 9 26 26 26 23 23 23 21 21 21\n",
      "5 5 5 22 11 9 11 9 11 9 26 26 26 23 23 23 21 21 21\n"
     ]
    }
   ],
   "source": [
    "# show first 10 log keys sequences\n",
    "N = 10\n",
    "with open(\"Dataset/HDFS/hdfs_train\") as file:  # the a opens it in append mode\n",
    "    for i in range(N): print(next(file).strip())"
   ]
  },
  {
   "cell_type": "code",
   "execution_count": 19,
   "metadata": {},
   "outputs": [
    {
     "name": "stdout",
     "output_type": "stream",
     "text": [
      "2 512 2048 4 0.1\n",
      "Epoch Step: 1 Loss: 3.835754 Tokens per Sec: 706.330017\n",
      "Epoch Step: 1 Loss: 0.429255 Tokens per Sec: 1224.489990\n",
      "tensor(0.4293)\n",
      "Epoch Step: 1 Loss: 0.586702 Tokens per Sec: 688.526123\n",
      "Epoch Step: 1 Loss: 0.195648 Tokens per Sec: 993.223450\n",
      "tensor(0.1956)\n",
      "Epoch Step: 1 Loss: 0.369800 Tokens per Sec: 639.788330\n",
      "Epoch Step: 1 Loss: 0.251983 Tokens per Sec: 1364.580322\n",
      "tensor(0.2520)\n",
      "Epoch Step: 1 Loss: 0.960734 Tokens per Sec: 757.712585\n",
      "Epoch Step: 1 Loss: 0.177892 Tokens per Sec: 1197.208740\n",
      "tensor(0.1779)\n",
      "Epoch Step: 1 Loss: 0.192082 Tokens per Sec: 731.324829\n",
      "Epoch Step: 1 Loss: 0.297957 Tokens per Sec: 1187.613647\n",
      "tensor(0.2980)\n",
      "Epoch Step: 1 Loss: 0.723444 Tokens per Sec: 842.353516\n",
      "Epoch Step: 1 Loss: 0.232099 Tokens per Sec: 1506.776001\n",
      "tensor(0.2321)\n",
      "Epoch Step: 1 Loss: 0.231169 Tokens per Sec: 704.539490\n",
      "Epoch Step: 1 Loss: 0.207786 Tokens per Sec: 1295.515991\n",
      "tensor(0.2078)\n",
      "Epoch Step: 1 Loss: 0.230873 Tokens per Sec: 714.459473\n",
      "Epoch Step: 1 Loss: 0.171194 Tokens per Sec: 1154.714722\n",
      "tensor(0.1712)\n",
      "Epoch Step: 1 Loss: 0.289034 Tokens per Sec: 755.649109\n",
      "Epoch Step: 1 Loss: 0.306903 Tokens per Sec: 1424.208984\n",
      "tensor(0.3069)\n",
      "Epoch Step: 1 Loss: 0.456977 Tokens per Sec: 765.931946\n",
      "Epoch Step: 1 Loss: 0.337109 Tokens per Sec: 1491.938843\n",
      "tensor(0.3371)\n"
     ]
    }
   ],
   "source": [
    "importlib.reload(tnsf)\n",
    "# Centralized model training\n",
    "model = tnsf.train(N=2, d_model=512, d_ff=2048, h=4, dropout=0.1)\n",
    "\n",
    "# Federated model training\n",
    "# federated_model = tnsf.federated_training(rounds = 1, clients = 2, N=2, d_model=512, d_ff=2048, h=4, dropout=0.1)"
   ]
  },
  {
   "cell_type": "code",
   "execution_count": 13,
   "metadata": {},
   "outputs": [
    {
     "name": "stdout",
     "output_type": "stream",
     "text": [
      "553366\n",
      "553366\n",
      "16838\n",
      "16838\n",
      "0\n",
      "1000\n",
      "2000\n",
      "3000\n",
      "4000\n",
      "5000\n",
      "6000\n",
      "7000\n",
      "8000\n",
      "9000\n",
      "0\n",
      "1000\n",
      "2000\n",
      "3000\n",
      "4000\n",
      "5000\n",
      "6000\n",
      "7000\n",
      "8000\n",
      "9000\n",
      "True positive (TP): 10000, true negative (TN): 9946, false positive (FP): 54, false negative (FN): 0, Accuracy: 99.730%, Precision: 99.463%, Recall: 100.000%, F1-measure: 99.731%\n",
      "elapsed_time: 513.127s\n"
     ]
    }
   ],
   "source": [
    "importlib.reload(tnsf)\n",
    "\n",
    "#Testing model\n",
    "tnsf.test(model)"
   ]
  },
  {
   "cell_type": "code",
   "execution_count": 20,
   "metadata": {},
   "outputs": [],
   "source": [
    "#Create sequences of 10 log keys\n",
    "WINDOW_SIZE = 10\n",
    "\n",
    "#Number of log templates\n",
    "VOCAB_SIZE = 29"
   ]
  },
  {
   "cell_type": "code",
   "execution_count": 23,
   "metadata": {},
   "outputs": [
    {
     "ename": "TypeError",
     "evalue": "greedy_decode() missing 1 required positional argument: 'g'",
     "output_type": "error",
     "traceback": [
      "\u001b[0;31m---------------------------------------------------------------------------\u001b[0m",
      "\u001b[0;31mTypeError\u001b[0m                                 Traceback (most recent call last)",
      "\u001b[0;32m<ipython-input-23-a2bfa193caaa>\u001b[0m in \u001b[0;36m<module>\u001b[0;34m\u001b[0m\n\u001b[1;32m     13\u001b[0m \u001b[0msrc\u001b[0m \u001b[0;34m=\u001b[0m \u001b[0mVariable\u001b[0m\u001b[0;34m(\u001b[0m\u001b[0mt1\u001b[0m\u001b[0;34m,\u001b[0m \u001b[0mrequires_grad\u001b[0m\u001b[0;34m=\u001b[0m\u001b[0;32mFalse\u001b[0m\u001b[0;34m)\u001b[0m\u001b[0;34m\u001b[0m\u001b[0;34m\u001b[0m\u001b[0m\n\u001b[1;32m     14\u001b[0m \u001b[0;34m\u001b[0m\u001b[0m\n\u001b[0;32m---> 15\u001b[0;31m \u001b[0mtgt_sent\u001b[0m \u001b[0;34m=\u001b[0m \u001b[0mtnsf\u001b[0m\u001b[0;34m.\u001b[0m\u001b[0mgreedy_decode\u001b[0m\u001b[0;34m(\u001b[0m\u001b[0mmodel\u001b[0m\u001b[0;34m,\u001b[0m \u001b[0msrc\u001b[0m\u001b[0;34m,\u001b[0m \u001b[0msrc_mask\u001b[0m\u001b[0;34m,\u001b[0m \u001b[0;36m0\u001b[0m\u001b[0;34m,\u001b[0m \u001b[0mmax_len\u001b[0m\u001b[0;34m=\u001b[0m\u001b[0mWINDOW_SIZE\u001b[0m\u001b[0;34m+\u001b[0m\u001b[0;36m1\u001b[0m\u001b[0;34m,\u001b[0m \u001b[0mstart_symbol\u001b[0m\u001b[0;34m=\u001b[0m\u001b[0;36m1\u001b[0m\u001b[0;34m,\u001b[0m \u001b[0mpred\u001b[0m\u001b[0;34m=\u001b[0m\u001b[0;32mFalse\u001b[0m\u001b[0;34m)\u001b[0m\u001b[0;34m\u001b[0m\u001b[0;34m\u001b[0m\u001b[0m\n\u001b[0m",
      "\u001b[0;31mTypeError\u001b[0m: greedy_decode() missing 1 required positional argument: 'g'"
     ]
    }
   ],
   "source": [
    "# Load model \n",
    "model = torch.load(\"Model/models.pt\")\n",
    "\n",
    "model.eval()\n",
    "sent = [22, 5, 5, 5, 26, 26, 26, 11, 9, 11]\n",
    "\n",
    "src_mask = Variable(torch.ones(1, 1, WINDOW_SIZE+1) )\n",
    "t1 = torch.from_numpy(np.zeros((1,WINDOW_SIZE+1),dtype=int))\n",
    "\n",
    "t1[0][1:WINDOW_SIZE+1] = torch.tensor(sent, dtype=torch.float).to(device)\n",
    "t1[0][0]=1\n",
    "\n",
    "src = Variable(t1, requires_grad=False)\n",
    "\n",
    "tgt_sent = tnsf.greedy_decode(model, src, src_mask, 0, max_len=WINDOW_SIZE+1, start_symbol=1, pred=False) "
   ]
  },
  {
   "cell_type": "code",
   "execution_count": 9,
   "metadata": {},
   "outputs": [],
   "source": [
    "tgt_sent = np.reshape(tgt_sent.numpy(), (11,))\n",
    "tgt_sent = list(tgt_sent)\n",
    "sent = list(np.reshape(src.numpy(), (11,)))"
   ]
  },
  {
   "cell_type": "code",
   "execution_count": 10,
   "metadata": {},
   "outputs": [],
   "source": [
    "def draw(data, x, y, ax):\n",
    "    seaborn.heatmap(data, xticklabels=x, square=True, yticklabels=y, vmin=0.0, vmax=1.0,cbar=False, ax=ax)"
   ]
  },
  {
   "cell_type": "code",
   "execution_count": 62,
   "metadata": {},
   "outputs": [
    {
     "name": "stdout",
     "output_type": "stream",
     "text": [
      "Encoder Layer 2\n"
     ]
    },
    {
     "data": {
      "image/png": "[encoded data removed]",
      "text/plain": [
       "<Figure size 1440x720 with 4 Axes>"
      ]
     },
     "metadata": {
      "needs_background": "light"
     },
     "output_type": "display_data"
    },
    {
     "name": "stdout",
     "output_type": "stream",
     "text": [
      "Encoder Layer 4\n"
     ]
    },
    {
     "data": {
      "image/png": "[encoded data removed]",
      "text/plain": [
       "<Figure size 1440x720 with 4 Axes>"
      ]
     },
     "metadata": {
      "needs_background": "light"
     },
     "output_type": "display_data"
    },
    {
     "name": "stdout",
     "output_type": "stream",
     "text": [
      "Decoder Self Layer 2\n"
     ]
    },
    {
     "data": {
      "image/png": "[encoded data removed]",
      "text/plain": [
       "<Figure size 1440x720 with 4 Axes>"
      ]
     },
     "metadata": {
      "needs_background": "light"
     },
     "output_type": "display_data"
    },
    {
     "name": "stdout",
     "output_type": "stream",
     "text": [
      "Decoder Src Layer 2\n"
     ]
    },
    {
     "data": {
      "image/png": "[encoded data removed]",
      "text/plain": [
       "<Figure size 1440x720 with 4 Axes>"
      ]
     },
     "metadata": {
      "needs_background": "light"
     },
     "output_type": "display_data"
    },
    {
     "name": "stdout",
     "output_type": "stream",
     "text": [
      "Decoder Self Layer 4\n"
     ]
    },
    {
     "data": {
      "image/png": "[encoded data removed]",
      "text/plain": [
       "<Figure size 1440x720 with 4 Axes>"
      ]
     },
     "metadata": {
      "needs_background": "light"
     },
     "output_type": "display_data"
    },
    {
     "name": "stdout",
     "output_type": "stream",
     "text": [
      "Decoder Src Layer 4\n"
     ]
    },
    {
     "data": {
      "image/png": "[encoded data removed]",
      "text/plain": [
       "<Figure size 1440x720 with 4 Axes>"
      ]
     },
     "metadata": {
      "needs_background": "light"
     },
     "output_type": "display_data"
    }
   ],
   "source": [
    "for layer in range(1, 4, 2):\n",
    "    fig, axs = plt.subplots(1,4, figsize=(20, 10))\n",
    "    print(\"Encoder Layer\", layer+1)\n",
    "    for h in range(4):\n",
    "        draw(model2.encoder.layers[layer].self_attn.attn[0, h].data, \n",
    "            sent, sent if h ==0 else [], ax=axs[h])\n",
    "    plt.show()\n",
    "    \n",
    "for layer in range(1, 4, 2):\n",
    "    fig, axs = plt.subplots(1,4, figsize=(20, 10))\n",
    "    print(\"Decoder Self Layer\", layer+1)\n",
    "    for h in range(4):\n",
    "        draw(model2.decoder.layers[layer].self_attn.attn[0, h].data[:len(tgt_sent), :len(tgt_sent)], \n",
    "            tgt_sent, tgt_sent if h ==0 else [], ax=axs[h])\n",
    "    plt.show()\n",
    "    print(\"Decoder Src Layer\", layer+1)\n",
    "    fig, axs = plt.subplots(1,4, figsize=(20, 10))\n",
    "    for h in range(4):\n",
    "        draw(model2.decoder.layers[layer].self_attn.attn[0, h].data[:len(tgt_sent), :len(sent)], \n",
    "            sent, tgt_sent if h ==0 else [], ax=axs[h])\n",
    "    plt.show()"
   ]
  },
  {
   "cell_type": "code",
   "execution_count": 58,
   "metadata": {},
   "outputs": [],
   "source": [
    "# Model size\n",
    "# parameters = 0\n",
    "# for k, v in model2.items():\n",
    "#     if len(model0[k].size()) == 1:\n",
    "#         parameters += model0[k].size()[0]\n",
    "#     elif len(model0[k].size()) == 2:        \n",
    "#         parameters += model0[k].size()[0]*model0[k].size()[1]\n",
    "#     else:         \n",
    "#         parameters += model0[k].size()[0]*model0[k].size()[1]*model0[k].size()[2]\n",
    "# print(parameters)"
   ]
  },
  {
   "cell_type": "markdown",
   "metadata": {},
   "source": [
    "## Sample"
   ]
  },
  {
   "cell_type": "code",
   "execution_count": 9,
   "metadata": {},
   "outputs": [
    {
     "name": "stdout",
     "output_type": "stream",
     "text": [
      "Incoming log: tensor(9)\n",
      "Candidate logs: tensor([ 2,  6,  4,  3, 21, 23, 26, 11,  9]) \n",
      "\n",
      "Incoming log: tensor(11)\n",
      "Candidate logs: tensor([15, 25, 23,  2,  6, 26,  3,  9, 11]) \n",
      "\n",
      "Incoming log: tensor(9)\n",
      "Candidate logs: tensor([15, 25, 21,  4,  6,  3, 23, 11,  9]) \n",
      "\n",
      "Incoming log: tensor(2)\n",
      "Candidate logs: tensor([15, 14, 21,  9, 23, 26,  3,  2,  4]) \n",
      "\n",
      "Incoming log: tensor(3)\n",
      "Candidate logs: tensor([ 6,  2,  4, 26, 21,  9, 23, 11,  3]) \n",
      "\n",
      "Incoming log: tensor(4)\n",
      "Candidate logs: tensor([20, 11, 26,  9,  2,  4,  3, 21, 23]) \n",
      "\n",
      "Incoming log: tensor(3)\n",
      "Candidate logs: tensor([ 6,  9, 11, 26, 23,  2,  4, 21,  3]) \n",
      "\n",
      "Incoming log: tensor(2)\n",
      "Candidate logs: tensor([20, 11, 26,  9,  4,  2, 21,  3, 23]) \n",
      "\n",
      "Incoming log: tensor(3)\n",
      "Candidate logs: tensor([20, 11,  4,  2,  9, 26,  3, 21, 23]) \n",
      "\n",
      "Incoming log: tensor(4)\n",
      "Candidate logs: tensor([20, 11, 26,  9, 21,  4,  2,  3, 23]) \n",
      "\n",
      "tensor([[ 9, 11,  9,  2,  3,  4,  3,  2,  3,  4,  0]])\n",
      "tensor([[ 1,  9, 11,  9,  2,  3,  4,  3,  2,  3,  4]]) \n",
      "\n",
      "Normal: true negative\n"
     ]
    }
   ],
   "source": [
    "importlib.reload(tnsf)\n",
    "\n",
    "t2 = torch.from_numpy(np.zeros((1,WINDOW_SIZE+1),dtype=int))\n",
    "\n",
    "tgt = [9, 11, 9, 2, 3, 4, 3, 2, 3, 4]\n",
    "t2[0][0:len(tgt)] = torch.tensor(tgt, dtype=torch.float).to(device)\n",
    "tgt = Variable(t2, requires_grad=False)\n",
    "\n",
    "pred = tnsf.greedy_decode(model2, src, src_mask, tgt, max_len=WINDOW_SIZE+1, start_symbol=1, pred=True) \n",
    "\n",
    "print(tgt)\n",
    "print(pred,\"\\n\")\n",
    "\n",
    "if -1 in pred:\n",
    "    print(\"Abnormal: false positive\")\n",
    "else:\n",
    "    print(\"Normal: true negative\")"
   ]
  },
  {
   "cell_type": "code",
   "execution_count": 28,
   "metadata": {},
   "outputs": [
    {
     "name": "stdout",
     "output_type": "stream",
     "text": [
      "Incoming log: tensor(9)\n",
      "Candidate logs: tensor([ 2,  6,  4,  3, 21, 23, 26, 11,  9]) \n",
      "\n",
      "Probabilities?: tensor([[0, 0, 0,  ..., 0, 0, 0]]) \n",
      "\n",
      "Incoming log: tensor(26)\n",
      "Candidate logs: tensor([15, 25,  2, 23,  6, 26,  3,  9, 11]) \n",
      "\n",
      "Probabilities?: tensor([[1, 1, 1,  ..., 1, 1, 0],\n",
      "        [0, 0, 0,  ..., 0, 0, 1]]) \n",
      "\n",
      "Incoming log: tensor(26)\n",
      "Candidate logs: tensor([ 6,  4,  2,  3, 26, 11,  9, 21, 23]) \n",
      "\n",
      "Probabilities?: tensor([[1, 1, 1,  ..., 1, 1, 2],\n",
      "        [0, 0, 0,  ..., 2, 0, 0],\n",
      "        [2, 2, 2,  ..., 0, 2, 1]]) \n",
      "\n",
      "Incoming log: tensor(27)\n",
      "Candidate logs: tensor([20,  2,  4,  3, 11, 26,  9, 21, 23]) \n",
      "\n",
      "Probabilities?: tensor([[1, 1, 1,  ..., 1, 1, 3],\n",
      "        [0, 0, 0,  ..., 2, 0, 2],\n",
      "        [3, 3, 2,  ..., 3, 2, 0],\n",
      "        [2, 2, 3,  ..., 0, 3, 1]]) \n",
      "\n",
      "tensor([[ 1,  5,  5,  5, 22, 11,  9, 11,  9, 26, 11]])\n",
      "tensor([[ 1,  9, 26, 26, 27, -1]]) \n",
      "\n",
      "Normal: true positive\n"
     ]
    }
   ],
   "source": [
    "importlib.reload(tnsf)\n",
    "sent = [5, 5, 5, 22, 11, 9, 11, 9, 26, 11]\n",
    "tgt = [9, 26, 26, 27, 23, 23, 23, 21, 21, 21 ]\n",
    "\n",
    "t1 = torch.from_numpy(np.zeros((1,WINDOW_SIZE+1),dtype=int))\n",
    "\n",
    "t1[0][1:WINDOW_SIZE+1] = torch.tensor(sent, dtype=torch.float).to(device)\n",
    "t1[0][0]=1\n",
    "\n",
    "src = Variable(t1, requires_grad=False)\n",
    "t2[0][0:len(tgt)] = torch.tensor(tgt, dtype=torch.float).to(device)\n",
    "tgt = Variable(t2, requires_grad=False)\n",
    "\n",
    "pred = tnsf.greedy_decode(model2, src, src_mask, tgt, max_len=WINDOW_SIZE+1, start_symbol=1, pred=True) \n",
    "\n",
    "print(src)\n",
    "print(pred,\"\\n\")\n",
    "\n",
    "if -1 in pred:\n",
    "    print(\"Normal: true positive\")\n",
    "else:\n",
    "    print(\"Abnormal: false negative\")"
   ]
  },
  {
   "cell_type": "code",
   "execution_count": 110,
   "metadata": {},
   "outputs": [
    {
     "data": {
      "text/html": [
       "<div>\n",
       "<style scoped>\n",
       "    .dataframe tbody tr th:only-of-type {\n",
       "        vertical-align: middle;\n",
       "    }\n",
       "\n",
       "    .dataframe tbody tr th {\n",
       "        vertical-align: top;\n",
       "    }\n",
       "\n",
       "    .dataframe thead th {\n",
       "        text-align: right;\n",
       "    }\n",
       "</style>\n",
       "<table border=\"1\" class=\"dataframe\">\n",
       "  <thead>\n",
       "    <tr style=\"text-align: right;\">\n",
       "      <th></th>\n",
       "      <th>EventId</th>\n",
       "      <th>EventTemplate</th>\n",
       "    </tr>\n",
       "  </thead>\n",
       "  <tbody>\n",
       "    <tr>\n",
       "      <th>0</th>\n",
       "      <td>E1</td>\n",
       "      <td>&lt;*&gt;Adding an already existing block&lt;*&gt;</td>\n",
       "    </tr>\n",
       "    <tr>\n",
       "      <th>1</th>\n",
       "      <td>E2</td>\n",
       "      <td>&lt;*&gt;Verification succeeded for&lt;*&gt;</td>\n",
       "    </tr>\n",
       "    <tr>\n",
       "      <th>2</th>\n",
       "      <td>E3</td>\n",
       "      <td>&lt;*&gt;Served block&lt;*&gt;to&lt;*&gt;</td>\n",
       "    </tr>\n",
       "    <tr>\n",
       "      <th>3</th>\n",
       "      <td>E4</td>\n",
       "      <td>&lt;*&gt;Got exception while serving&lt;*&gt;to&lt;*&gt;</td>\n",
       "    </tr>\n",
       "    <tr>\n",
       "      <th>4</th>\n",
       "      <td>E5</td>\n",
       "      <td>&lt;*&gt;Receiving block&lt;*&gt;src:&lt;*&gt;dest:&lt;*&gt;</td>\n",
       "    </tr>\n",
       "    <tr>\n",
       "      <th>5</th>\n",
       "      <td>E6</td>\n",
       "      <td>&lt;*&gt;Received block&lt;*&gt;src:&lt;*&gt;dest:&lt;*&gt;of size&lt;*&gt;</td>\n",
       "    </tr>\n",
       "    <tr>\n",
       "      <th>6</th>\n",
       "      <td>E7</td>\n",
       "      <td>&lt;*&gt;writeBlock&lt;*&gt;received exception&lt;*&gt;</td>\n",
       "    </tr>\n",
       "    <tr>\n",
       "      <th>7</th>\n",
       "      <td>E8</td>\n",
       "      <td>&lt;*&gt;PacketResponder&lt;*&gt;for block&lt;*&gt;Interrupted&lt;*&gt;</td>\n",
       "    </tr>\n",
       "    <tr>\n",
       "      <th>8</th>\n",
       "      <td>E9</td>\n",
       "      <td>&lt;*&gt;Received block&lt;*&gt;of size&lt;*&gt;from&lt;*&gt;</td>\n",
       "    </tr>\n",
       "    <tr>\n",
       "      <th>9</th>\n",
       "      <td>E10</td>\n",
       "      <td>&lt;*&gt;PacketResponder&lt;*&gt;Exception&lt;*&gt;</td>\n",
       "    </tr>\n",
       "    <tr>\n",
       "      <th>10</th>\n",
       "      <td>E11</td>\n",
       "      <td>&lt;*&gt;PacketResponder &lt;*&gt; for block &lt;*&gt; terminating&lt;*&gt;</td>\n",
       "    </tr>\n",
       "    <tr>\n",
       "      <th>11</th>\n",
       "      <td>E12</td>\n",
       "      <td>&lt;*&gt;:Exception writing block&lt;*&gt;to mirror&lt;*&gt;</td>\n",
       "    </tr>\n",
       "    <tr>\n",
       "      <th>12</th>\n",
       "      <td>E13</td>\n",
       "      <td>&lt;*&gt;Receiving empty packet for block&lt;*&gt;</td>\n",
       "    </tr>\n",
       "    <tr>\n",
       "      <th>13</th>\n",
       "      <td>E14</td>\n",
       "      <td>&lt;*&gt;Exception in receiveBlock for block&lt;*&gt;</td>\n",
       "    </tr>\n",
       "    <tr>\n",
       "      <th>14</th>\n",
       "      <td>E15</td>\n",
       "      <td>&lt;*&gt;Changing block file offset of block&lt;*&gt;from&lt;*&gt;to&lt;*&gt;meta file offset to&lt;*&gt;</td>\n",
       "    </tr>\n",
       "    <tr>\n",
       "      <th>15</th>\n",
       "      <td>E16</td>\n",
       "      <td>&lt;*&gt;:Transmitted block&lt;*&gt;to&lt;*&gt;</td>\n",
       "    </tr>\n",
       "    <tr>\n",
       "      <th>16</th>\n",
       "      <td>E17</td>\n",
       "      <td>&lt;*&gt;:Failed to transfer&lt;*&gt;to&lt;*&gt;got&lt;*&gt;</td>\n",
       "    </tr>\n",
       "    <tr>\n",
       "      <th>17</th>\n",
       "      <td>E18</td>\n",
       "      <td>&lt;*&gt;Starting thread to transfer block&lt;*&gt;to&lt;*&gt;</td>\n",
       "    </tr>\n",
       "    <tr>\n",
       "      <th>18</th>\n",
       "      <td>E19</td>\n",
       "      <td>&lt;*&gt;Reopen Block&lt;*&gt;</td>\n",
       "    </tr>\n",
       "    <tr>\n",
       "      <th>19</th>\n",
       "      <td>E20</td>\n",
       "      <td>&lt;*&gt;Unexpected error trying to delete block&lt;*&gt;BlockInfo not found in volumeMap&lt;*&gt;</td>\n",
       "    </tr>\n",
       "    <tr>\n",
       "      <th>20</th>\n",
       "      <td>E21</td>\n",
       "      <td>&lt;*&gt;Deleting block&lt;*&gt;file&lt;*&gt;</td>\n",
       "    </tr>\n",
       "    <tr>\n",
       "      <th>21</th>\n",
       "      <td>E22</td>\n",
       "      <td>&lt;*&gt;BLOCK* NameSystem&lt;*&gt;allocateBlock:&lt;*&gt;</td>\n",
       "    </tr>\n",
       "    <tr>\n",
       "      <th>22</th>\n",
       "      <td>E23</td>\n",
       "      <td>&lt;*&gt;BLOCK* NameSystem&lt;*&gt;delete:&lt;*&gt;is added to invalidSet of&lt;*&gt;</td>\n",
       "    </tr>\n",
       "    <tr>\n",
       "      <th>23</th>\n",
       "      <td>E24</td>\n",
       "      <td>&lt;*&gt;BLOCK* Removing block&lt;*&gt;from neededReplications as it does not belong to any file&lt;*&gt;</td>\n",
       "    </tr>\n",
       "    <tr>\n",
       "      <th>24</th>\n",
       "      <td>E25</td>\n",
       "      <td>&lt;*&gt;BLOCK* ask&lt;*&gt;to replicate&lt;*&gt;to&lt;*&gt;</td>\n",
       "    </tr>\n",
       "    <tr>\n",
       "      <th>25</th>\n",
       "      <td>E26</td>\n",
       "      <td>&lt;*&gt;BLOCK* NameSystem&lt;*&gt;addStoredBlock: blockMap updated:&lt;*&gt;is added to&lt;*&gt;size&lt;*&gt;</td>\n",
       "    </tr>\n",
       "    <tr>\n",
       "      <th>26</th>\n",
       "      <td>E27</td>\n",
       "      <td>&lt;*&gt;BLOCK* NameSystem&lt;*&gt;addStoredBlock: Redundant addStoredBlock request received for&lt;*&gt;on&lt;*&gt;size&lt;*&gt;</td>\n",
       "    </tr>\n",
       "    <tr>\n",
       "      <th>27</th>\n",
       "      <td>E28</td>\n",
       "      <td>&lt;*&gt;BLOCK* NameSystem&lt;*&gt;addStoredBlock: addStoredBlock request received for&lt;*&gt;on&lt;*&gt;size&lt;*&gt;But it does not belong to any file.</td>\n",
       "    </tr>\n",
       "    <tr>\n",
       "      <th>28</th>\n",
       "      <td>E29</td>\n",
       "      <td>&lt;*&gt;PendingReplicationMonitor timed out block&lt;*&gt;</td>\n",
       "    </tr>\n",
       "    <tr>\n",
       "      <th>29</th>\n",
       "      <td>E30</td>\n",
       "      <td>&lt;*&gt;BLOCK* ask &lt;*&gt; to delete &lt;*&gt;</td>\n",
       "    </tr>\n",
       "  </tbody>\n",
       "</table>\n",
       "</div>"
      ],
      "text/plain": [
       "   EventId                                                                                                                 EventTemplate\n",
       "0       E1                                                                                        <*>Adding an already existing block<*>\n",
       "1       E2                                                                                              <*>Verification succeeded for<*>\n",
       "2       E3                                                                                                       <*>Served block<*>to<*>\n",
       "3       E4                                                                                        <*>Got exception while serving<*>to<*>\n",
       "4       E5                                                                                          <*>Receiving block<*>src:<*>dest:<*>\n",
       "5       E6                                                                                 <*>Received block<*>src:<*>dest:<*>of size<*>\n",
       "6       E7                                                                                         <*>writeBlock<*>received exception<*>\n",
       "7       E8                                                                               <*>PacketResponder<*>for block<*>Interrupted<*>\n",
       "8       E9                                                                                         <*>Received block<*>of size<*>from<*>\n",
       "9      E10                                                                                             <*>PacketResponder<*>Exception<*>\n",
       "10     E11                                                                           <*>PacketResponder <*> for block <*> terminating<*>\n",
       "11     E12                                                                                    <*>:Exception writing block<*>to mirror<*>\n",
       "12     E13                                                                                        <*>Receiving empty packet for block<*>\n",
       "13     E14                                                                                     <*>Exception in receiveBlock for block<*>\n",
       "14     E15                                                   <*>Changing block file offset of block<*>from<*>to<*>meta file offset to<*>\n",
       "15     E16                                                                                                 <*>:Transmitted block<*>to<*>\n",
       "16     E17                                                                                          <*>:Failed to transfer<*>to<*>got<*>\n",
       "17     E18                                                                                  <*>Starting thread to transfer block<*>to<*>\n",
       "18     E19                                                                                                            <*>Reopen Block<*>\n",
       "19     E20                                              <*>Unexpected error trying to delete block<*>BlockInfo not found in volumeMap<*>\n",
       "20     E21                                                                                                   <*>Deleting block<*>file<*>\n",
       "21     E22                                                                                      <*>BLOCK* NameSystem<*>allocateBlock:<*>\n",
       "22     E23                                                                 <*>BLOCK* NameSystem<*>delete:<*>is added to invalidSet of<*>\n",
       "23     E24                                       <*>BLOCK* Removing block<*>from neededReplications as it does not belong to any file<*>\n",
       "24     E25                                                                                          <*>BLOCK* ask<*>to replicate<*>to<*>\n",
       "25     E26                                              <*>BLOCK* NameSystem<*>addStoredBlock: blockMap updated:<*>is added to<*>size<*>\n",
       "26     E27                           <*>BLOCK* NameSystem<*>addStoredBlock: Redundant addStoredBlock request received for<*>on<*>size<*>\n",
       "27     E28  <*>BLOCK* NameSystem<*>addStoredBlock: addStoredBlock request received for<*>on<*>size<*>But it does not belong to any file.\n",
       "28     E29                                                                               <*>PendingReplicationMonitor timed out block<*>\n",
       "29     E30                                                                                               <*>BLOCK* ask <*> to delete <*>"
      ]
     },
     "execution_count": 110,
     "metadata": {},
     "output_type": "execute_result"
    }
   ],
   "source": [
    "log_template = pd.read_csv(\"Drain_result/HDFS_templates.csv\") \n",
    "log_template"
   ]
  },
  {
   "cell_type": "code",
   "execution_count": 123,
   "metadata": {},
   "outputs": [
    {
     "name": "stderr",
     "output_type": "stream",
     "text": [
      "  0%|          | 0/1 [00:00<?, ?it/s]"
     ]
    },
    {
     "name": "stdout",
     "output_type": "stream",
     "text": [
      "2 512 2048 4 0.1\n",
      "\n",
      " | Global Training Round : 1 |\n",
      "\n",
      "Client: 3\n",
      "Epoch Step: 1 Loss: 3.954712 Tokens per Sec: 639.768494\n",
      "Epoch Step: 1 Loss: 0.400021 Tokens per Sec: 1365.889160\n",
      "tensor(0.4000)\n",
      "Epoch Step: 1 Loss: 0.445543 Tokens per Sec: 703.602295\n",
      "Epoch Step: 1 Loss: 0.166760 Tokens per Sec: 1194.379883\n",
      "tensor(0.1668)\n",
      "Epoch Step: 1 Loss: 0.252805 Tokens per Sec: 696.037842\n",
      "Epoch Step: 1 Loss: 0.129374 Tokens per Sec: 1503.415649\n",
      "tensor(0.1294)\n",
      "Epoch Step: 1 Loss: 0.262660 Tokens per Sec: 707.066589\n",
      "Epoch Step: 1 Loss: 0.081507 Tokens per Sec: 1156.764404\n",
      "tensor(0.0815)\n",
      "Epoch Step: 1 Loss: 0.166875 Tokens per Sec: 694.853394\n",
      "Epoch Step: 1 Loss: 0.072039 Tokens per Sec: 1063.360474\n",
      "tensor(0.0720)\n",
      "Epoch Step: 1 Loss: 0.078989 Tokens per Sec: 526.267639\n",
      "Epoch Step: 1 Loss: 0.071354 Tokens per Sec: 852.175415\n",
      "tensor(0.0714)\n",
      "Epoch Step: 1 Loss: 0.087261 Tokens per Sec: 464.088287\n",
      "Epoch Step: 1 Loss: 0.319261 Tokens per Sec: 775.874207\n",
      "tensor(0.3193)\n",
      "Epoch Step: 1 Loss: 1.775642 Tokens per Sec: 470.580475\n",
      "Epoch Step: 1 Loss: 0.356128 Tokens per Sec: 1037.513550\n",
      "tensor(0.3561)\n",
      "Epoch Step: 1 Loss: 0.467242 Tokens per Sec: 642.826294\n",
      "Epoch Step: 1 Loss: 0.210420 Tokens per Sec: 1074.799194\n",
      "tensor(0.2104)\n",
      "Epoch Step: 1 Loss: 0.439526 Tokens per Sec: 689.911011\n",
      "Epoch Step: 1 Loss: 0.386510 Tokens per Sec: 1088.327148\n",
      "tensor(0.3865)\n",
      "Client: 1\n",
      "Epoch Step: 1 Loss: 4.044034 Tokens per Sec: 974.516541\n",
      "Epoch Step: 1 Loss: 0.451538 Tokens per Sec: 1509.339111\n",
      "tensor(0.4515)\n",
      "Epoch Step: 1 Loss: 0.579957 Tokens per Sec: 925.855530\n",
      "Epoch Step: 1 Loss: 0.241413 Tokens per Sec: 1890.186401\n",
      "tensor(0.2414)\n",
      "Epoch Step: 1 Loss: 1.001027 Tokens per Sec: 875.216919\n",
      "Epoch Step: 1 Loss: 0.223176 Tokens per Sec: 1635.681152\n",
      "tensor(0.2232)\n",
      "Epoch Step: 1 Loss: 0.518500 Tokens per Sec: 966.775208\n",
      "Epoch Step: 1 Loss: 0.188108 Tokens per Sec: 1556.003296\n",
      "tensor(0.1881)\n",
      "Epoch Step: 1 Loss: 0.487125 Tokens per Sec: 907.840637\n",
      "Epoch Step: 1 Loss: 0.217189 Tokens per Sec: 1762.613525\n",
      "tensor(0.2172)\n",
      "Epoch Step: 1 Loss: 0.342856 Tokens per Sec: 937.515808\n",
      "Epoch Step: 1 Loss: 0.223593 Tokens per Sec: 1620.605347\n",
      "tensor(0.2236)\n",
      "Epoch Step: 1 Loss: 0.378816 Tokens per Sec: 972.375000\n",
      "Epoch Step: 1 Loss: 0.176559 Tokens per Sec: 1511.336060\n",
      "tensor(0.1766)\n",
      "Epoch Step: 1 Loss: 0.377381 Tokens per Sec: 1055.581543\n",
      "Epoch Step: 1 Loss: 0.229050 Tokens per Sec: 1828.255615\n",
      "tensor(0.2290)\n",
      "Epoch Step: 1 Loss: 0.570767 Tokens per Sec: 1074.739136\n",
      "Epoch Step: 1 Loss: 0.224776 Tokens per Sec: 1848.873291\n",
      "tensor(0.2248)\n",
      "Epoch Step: 1 Loss: 0.502974 Tokens per Sec: 994.199280\n",
      "Epoch Step: 1 Loss: 0.282852 Tokens per Sec: 1483.336548\n",
      "tensor(0.2829)\n",
      "Client: 2\n",
      "Epoch Step: 1 Loss: 4.129413 Tokens per Sec: 613.446411\n",
      "Epoch Step: 1 Loss: 0.254069 Tokens per Sec: 1017.288147\n",
      "tensor(0.2541)\n",
      "Epoch Step: 1 Loss: 0.340948 Tokens per Sec: 584.118896\n",
      "Epoch Step: 1 Loss: 0.115671 Tokens per Sec: 1049.272705\n",
      "tensor(0.1157)\n",
      "Epoch Step: 1 Loss: 0.446223 Tokens per Sec: 570.661255\n",
      "Epoch Step: 1 Loss: 0.048528 Tokens per Sec: 1054.670654\n",
      "tensor(0.0485)\n",
      "Epoch Step: 1 Loss: 0.074523 Tokens per Sec: 628.567810\n",
      "Epoch Step: 1 Loss: 0.018383 Tokens per Sec: 1055.712891\n",
      "tensor(0.0184)\n",
      "Epoch Step: 1 Loss: 0.112639 Tokens per Sec: 599.741089\n",
      "Epoch Step: 1 Loss: 0.015243 Tokens per Sec: 1021.995728\n",
      "tensor(0.0152)\n",
      "Epoch Step: 1 Loss: 0.032335 Tokens per Sec: 602.448975\n",
      "Epoch Step: 1 Loss: 0.024929 Tokens per Sec: 987.897217\n",
      "tensor(0.0249)\n",
      "Epoch Step: 1 Loss: 0.118151 Tokens per Sec: 674.624084\n",
      "Epoch Step: 1 Loss: 0.077147 Tokens per Sec: 1028.059082\n",
      "tensor(0.0771)\n",
      "Epoch Step: 1 Loss: 0.407867 Tokens per Sec: 480.956573\n",
      "Epoch Step: 1 Loss: 0.111221 Tokens per Sec: 1274.477051\n",
      "tensor(0.1112)\n",
      "Epoch Step: 1 Loss: 0.383120 Tokens per Sec: 616.842896\n",
      "Epoch Step: 1 Loss: 0.126033 Tokens per Sec: 1215.105225\n",
      "tensor(0.1260)\n",
      "Epoch Step: 1 Loss: 0.281011 Tokens per Sec: 623.226501\n",
      "Epoch Step: 1 Loss: 0.023008 Tokens per Sec: 1254.677368\n",
      "tensor(0.0230)\n",
      "Client: 0\n",
      "Epoch Step: 1 Loss: 3.823639 Tokens per Sec: 875.189697\n",
      "Epoch Step: 1 Loss: 0.349496 Tokens per Sec: 1748.119629\n",
      "tensor(0.3495)\n",
      "Epoch Step: 1 Loss: 0.432651 Tokens per Sec: 939.057068\n",
      "Epoch Step: 1 Loss: 0.276911 Tokens per Sec: 1735.365356\n",
      "tensor(0.2769)\n",
      "Epoch Step: 1 Loss: 0.928996 Tokens per Sec: 763.194702\n",
      "Epoch Step: 1 Loss: 0.185714 Tokens per Sec: 1349.624634\n",
      "tensor(0.1857)\n",
      "Epoch Step: 1 Loss: 0.504198 Tokens per Sec: 851.172729\n",
      "Epoch Step: 1 Loss: 0.153754 Tokens per Sec: 1395.138062\n",
      "tensor(0.1538)\n",
      "Epoch Step: 1 Loss: 0.331570 Tokens per Sec: 787.633850\n",
      "Epoch Step: 1 Loss: 0.215151 Tokens per Sec: 1729.675171\n",
      "tensor(0.2152)\n",
      "Epoch Step: 1 Loss: 0.362056 Tokens per Sec: 818.487427\n",
      "Epoch Step: 1 Loss: 0.158375 Tokens per Sec: 1750.673462\n",
      "tensor(0.1584)\n",
      "Epoch Step: 1 Loss: 0.257521 Tokens per Sec: 901.080383\n",
      "Epoch Step: 1 Loss: 0.175897 Tokens per Sec: 1734.730835\n",
      "tensor(0.1759)\n",
      "Epoch Step: 1 Loss: 0.278744 Tokens per Sec: 884.077026\n",
      "Epoch Step: 1 Loss: 0.345448 Tokens per Sec: 1731.102905\n",
      "tensor(0.3454)\n",
      "Epoch Step: 1 Loss: 0.409953 Tokens per Sec: 922.252686\n",
      "Epoch Step: 1 Loss: 0.208311 Tokens per Sec: 1304.245972\n",
      "tensor(0.2083)\n",
      "Epoch Step: 1 Loss: 0.423086 Tokens per Sec: 786.607971\n",
      "Epoch Step: 1 Loss: 0.202684 Tokens per Sec: 1650.856934\n",
      "tensor(0.2027)\n"
     ]
    },
    {
     "name": "stderr",
     "output_type": "stream",
     "text": [
      "100%|██████████| 1/1 [02:11<00:00, 131.44s/it]\n"
     ]
    }
   ],
   "source": [
    "importlib.reload(tnsf)\n",
    "global_model = tnsf.train(Federated = True, N=2, clients=4, d_model=512, d_ff=2048, h=4, dropout=0.1)"
   ]
  },
  {
   "cell_type": "code",
   "execution_count": 126,
   "metadata": {},
   "outputs": [
    {
     "name": "stdout",
     "output_type": "stream",
     "text": [
      "553366\n",
      "553366\n",
      "16838\n",
      "16838\n",
      "0\n",
      "1000\n",
      "2000\n",
      "3000\n",
      "4000\n",
      "0\n",
      "1000\n",
      "2000\n",
      "3000\n",
      "4000\n",
      "True positive (TP): 4377, true negative (TN): 4977, false positive (FP): 23, false negative (FN): 623, Accuracy: 93.540%, Precision: 99.477%, Recall: 87.540%, F1-measure: 93.128%\n",
      "elapsed_time: 261.250s\n"
     ]
    }
   ],
   "source": [
    "importlib.reload(tnsf)\n",
    "tnsf.test(global_model)"
   ]
  },
  {
   "cell_type": "code",
   "execution_count": null,
   "metadata": {},
   "outputs": [],
   "source": []
  }
 ],
 "metadata": {
  "kernelspec": {
   "display_name": "Python [conda env:root] *",
   "language": "python",
   "name": "conda-root-py"
  },
  "language_info": {
   "codemirror_mode": {
    "name": "ipython",
    "version": 3
   },
   "file_extension": ".py",
   "mimetype": "text/x-python",
   "name": "python",
   "nbconvert_exporter": "python",
   "pygments_lexer": "ipython3",
   "version": "3.7.7"
  }
 },
 "nbformat": 4,
 "nbformat_minor": 4
}
